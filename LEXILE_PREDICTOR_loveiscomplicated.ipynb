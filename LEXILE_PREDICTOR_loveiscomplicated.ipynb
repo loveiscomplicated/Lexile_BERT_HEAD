{
  "cells": [
    {
      "cell_type": "markdown",
      "metadata": {
        "id": "view-in-github",
        "colab_type": "text"
      },
      "source": [
        "<a href=\"https://colab.research.google.com/github/loveiscomplicated/Lexile_BERT_HEAD/blob/main/LEXILE_PREDICTOR_loveiscomplicated.ipynb\" target=\"_parent\"><img src=\"https://colab.research.google.com/assets/colab-badge.svg\" alt=\"Open In Colab\"/></a>"
      ]
    },
    {
      "cell_type": "markdown",
      "metadata": {
        "id": "xyyOv4Fhez_d"
      },
      "source": [
        "# 전체 플로우\n",
        "## 1. 데이터 수집\n",
        "## 2. 데이터 전처리 1 - 수집한 두 데이터를 하나로 합치기(all_raw_data.csv로 저장)\n",
        "## 3. 데이터 전처리 2 - all_raw_data 토큰화, 렉사일 지수를 적절한 기준에 따라 범주화 (final_data.pkl로 저장)\n",
        "## 4. 데이터 전처리 3 - final_data.pkl을 BERT에 입력, 결과물 저장 (bert_embeddings.pkl로 저장)\n",
        "## 5. 데이터 전처리 4 - train_test_split, 데이터 텐서로 변환\n",
        "## 6. 모델 구축\n",
        "## 7. 모델 훈련 및 최선의 모델 저장\n",
        "## 8. 모델 평가\n",
        "\n",
        "\n",
        "모델 구축 방법\n",
        "\n",
        "BERT head + FC layer(Fully connected layer)\n",
        "\n",
        "BERT의 파라미터는 그대로 고정하고, FC layer만 학습시키는 방법\n",
        "시간 단축, 컴퓨팅 리소스 절약할 수 있는 동시에 BERT라는 강력한 자연어 처리 모델을 활용할 수 있다는 점에서 해당 방법론 선택\n",
        "\n",
        "\n"
      ]
    },
    {
      "cell_type": "markdown",
      "metadata": {
        "id": "3049UCn3fPpH"
      },
      "source": [
        "## 1. 데이터 수집\n",
        "\n",
        "카글(kaggle)과 github(eannefawcett)에서 공개된 데이터 이용\n",
        "\n",
        "\n",
        "카글 자료 출처 = https://www.kaggle.com/datasets/kononenko/commonlit-texts\n",
        "commonlit_texts.csv을 저장\n",
        "\n",
        "github(제작자명: eannefawcett) = https://github.com/eannefawcett/lexile-determination-v2/tree/master/data/raw\n",
        "labeled_data.pickle을 저장\n",
        "\n",
        "1. 구글 드라이브의 내 드라이브 - (만약 없다면 생성) Colab Notebooks 폴더 - LEXILE 폴더 생성 - data 폴더 생성\n",
        "2. 이 두 데이터를 1.의 해당 경로 안에 업로드\n",
        "3. 코랩을 구글 드라이브와 연결하여 데이터 불러오기"
      ]
    },
    {
      "cell_type": "code",
      "execution_count": null,
      "metadata": {
        "id": "1_MFrwnKeQQr"
      },
      "outputs": [],
      "source": [
        "import pandas as pd\n",
        "import pickle\n"
      ]
    },
    {
      "cell_type": "code",
      "execution_count": null,
      "metadata": {
        "id": "eXxu3i_hiVoq",
        "colab": {
          "base_uri": "https://localhost:8080/"
        },
        "outputId": "7c2bfc0b-c29a-4547-d156-60eec4628ade"
      },
      "outputs": [
        {
          "output_type": "stream",
          "name": "stdout",
          "text": [
            "Mounted at /content/drive\n"
          ]
        }
      ],
      "source": [
        "# Google Drive 마운트 (데이터 파일 접근을 위해)\n",
        "from google.colab import drive\n",
        "drive.mount('/content/drive', force_remount=True)\n"
      ]
    },
    {
      "cell_type": "code",
      "execution_count": null,
      "metadata": {
        "id": "Sxv6d92-iebo",
        "colab": {
          "base_uri": "https://localhost:8080/"
        },
        "outputId": "7895a6a9-0347-42bf-b1ba-a7243841c5cb"
      },
      "outputs": [
        {
          "output_type": "stream",
          "name": "stdout",
          "text": [
            "Loading data from: /content/drive/MyDrive/Colab Notebooks/LEXILE/data/commonlit_texts.csv\n",
            "                                               title  \\\n",
            "0                     (love song, with two goldfish)   \n",
            "1                10 Things You Can Do to Avoid Fraud   \n",
            "2  100 years ago: An election, a virus and a cry ...   \n",
            "3                                     13 Concussions   \n",
            "4                                           The 13th   \n",
            "\n",
            "                     author  \\\n",
            "0                Grace Chua   \n",
            "1  Federal Trade Commission   \n",
            "2          Michael E. Ruane   \n",
            "3             Casey Cochran   \n",
            "4            Shelley Walden   \n",
            "\n",
            "                                         description  grade  \\\n",
            "0  The speaker describes a love story between two...      8   \n",
            "1  The Federal Trade Commission discusses what pe...     10   \n",
            "2  In 2020, a news reporter takes a look back at ...     11   \n",
            "3  In this article, a former college football pla...      9   \n",
            "4  When the COVID-19 lockdown begins, a superstit...      6   \n",
            "\n",
            "                genre  lexile  is_prose  \\\n",
            "0                Poem     NaN         0   \n",
            "1  Informational Text  1100.0         1   \n",
            "2  Informational Text  1140.0         1   \n",
            "3  Informational Text   810.0         1   \n",
            "4         Short Story   700.0         1   \n",
            "\n",
            "                                                text  \n",
            "0  (He's a drifter,  always floating around her, ...  \n",
            "1  International scam artists use clever schemes ...  \n",
            "2  A critical election loomed. The country was de...  \n",
            "3  It was a beautiful night in late August. We we...  \n",
            "4  As Angela stared out the school bus window, he...  \n"
          ]
        }
      ],
      "source": [
        "# 카글에서 가져온 commonlit_texts.csv 불러오기\n",
        "path = '/content/drive/MyDrive/Colab Notebooks/LEXILE/data/commonlit_texts.csv'\n",
        "print(f\"Loading data from: {path}\")\n",
        "with open(path, 'r') as f:\n",
        "    commonlit = pd.read_csv(f)\n",
        "    print(commonlit.head())\n"
      ]
    },
    {
      "cell_type": "code",
      "source": [
        "# github에서 가져온 labeled_data.pkl 불러오기\n",
        "path = '/content/drive/MyDrive/Colab Notebooks/LEXILE/data/labeled_data.pickle'\n",
        "print(f\"Loading data from: {path}\")\n",
        "with open(path, 'rb') as f:\n",
        "    labeled_data = pickle.load(f)\n",
        "    print(labeled_data.head())\n"
      ],
      "metadata": {
        "colab": {
          "base_uri": "https://localhost:8080/"
        },
        "id": "olPy4V6nkQlC",
        "outputId": "d65eda7b-640a-49c4-8a22-339f060dd750"
      },
      "execution_count": null,
      "outputs": [
        {
          "output_type": "stream",
          "name": "stdout",
          "text": [
            "Loading data from: /content/drive/MyDrive/Colab Notebooks/LEXILE/data/labeled_data.pickle\n",
            "  Lexiles         Titles                                              Texts\n",
            "0   1150L  Eight Cousins  The Project Gutenberg EBook of Eight Cousins, ...\n",
            "1   1200L  Flower Fables  The Project Gutenberg EBook of Flower Fables, ...\n",
            "2  AD550L  Jack And Jill  The Project Gutenberg EBook of Jack and Jill, ...\n",
            "3   1120L      Jo'S Boys  The Project Gutenberg EBook of Jo's Boys, by L...\n",
            "4   1150L     Little Men  The Project Gutenberg EBook of Little Men, by ...\n"
          ]
        }
      ]
    },
    {
      "cell_type": "markdown",
      "source": [
        "##2. 데이터 전처리 1 - 수집한 두 데이터셋을 하나의 데이터셋(all_raw_data.csv)으로 만들기\n"
      ],
      "metadata": {
        "id": "UL0jfsxrkplG"
      }
    },
    {
      "cell_type": "markdown",
      "source": [
        "단,\n",
        "\n",
        "1. 렉사일 지수, 그리고 글을 column으로 한 데이터 프레임으로 만들어야 함\n",
        "2. 렉사일 지수는 정수형 데이터여야 함\n",
        "3. 결측치가 없어야 함\n",
        "\n",
        "###2-1 commonlit에서 lexile 열과 text열만 추출\n",
        "###2-2 labeled_data에서 lexile 열과 text열만 추출\n",
        "+ (추가적으로) lexile열의 데이터들이 알파벳이 포함된 문자열임 -> 수정하기\n",
        "\n",
        "###2-3 all_raw_data로 합치기 + csv 형식으로 저장"
      ],
      "metadata": {
        "id": "exzAveE_z6VE"
      }
    },
    {
      "cell_type": "code",
      "source": [
        "import pandas as pd\n",
        "import pickle\n",
        "import re"
      ],
      "metadata": {
        "id": "9JYLDABDowvq"
      },
      "execution_count": null,
      "outputs": []
    },
    {
      "cell_type": "code",
      "source": [
        "###2-1 commonlit에서 lexile 열과 text열만 추출\n",
        "# 결측치를 제거하고 텍스트 열을 사용\n",
        "data = pd.DataFrame()\n",
        "data['text'] = commonlit['text']\n",
        "data['lexile'] = commonlit['lexile']\n",
        "data = data.dropna()\n",
        "\n",
        "print(data.shape)"
      ],
      "metadata": {
        "colab": {
          "base_uri": "https://localhost:8080/"
        },
        "id": "gUczCdgkko3V",
        "outputId": "dd417de1-c678-4f23-c387-38f909da4959"
      },
      "execution_count": null,
      "outputs": [
        {
          "output_type": "stream",
          "name": "stdout",
          "text": [
            "(1623, 2)\n"
          ]
        }
      ]
    },
    {
      "cell_type": "code",
      "source": [
        "###2-2 labeled_data에서 lexile 열과 text열만 추출\n",
        "# lexile열의 데이터들이 알파벳이 포함된 문자열임 -> 수정하기\n",
        "\n",
        "labeled_data['cleaned_lexile'] = labeled_data['Lexiles'].apply(lambda x: int(re.search(r'\\d+', x).group()))\n",
        "print(labeled_data['cleaned_lexile'].head(10))\n",
        "\n",
        "new_data = pd.DataFrame()\n",
        "new_data['lexile'] = labeled_data['cleaned_lexile']\n",
        "new_data['text'] = labeled_data['Texts']\n",
        "print(new_data.head(), new_data.shape)"
      ],
      "metadata": {
        "colab": {
          "base_uri": "https://localhost:8080/"
        },
        "id": "iGf2W09Eoe-P",
        "outputId": "d6ba45c4-a67c-4788-bbf5-ebb80f23cf01"
      },
      "execution_count": null,
      "outputs": [
        {
          "output_type": "stream",
          "name": "stdout",
          "text": [
            "0    1150\n",
            "1    1200\n",
            "2     550\n",
            "3    1120\n",
            "4    1150\n",
            "5     790\n",
            "6    1210\n",
            "7    1290\n",
            "8    1360\n",
            "9     590\n",
            "Name: cleaned_lexile, dtype: int64\n",
            "   lexile                                               text\n",
            "0    1150  The Project Gutenberg EBook of Eight Cousins, ...\n",
            "1    1200  The Project Gutenberg EBook of Flower Fables, ...\n",
            "2     550  The Project Gutenberg EBook of Jack and Jill, ...\n",
            "3    1120  The Project Gutenberg EBook of Jo's Boys, by L...\n",
            "4    1150  The Project Gutenberg EBook of Little Men, by ... (264, 2)\n"
          ]
        }
      ]
    },
    {
      "cell_type": "code",
      "source": [
        "###2-3 all_raw_data로 합치기 + csv 형식으로 저장\n",
        "concat_data = pd.concat([data, new_data], axis=0)\n",
        "print(concat_data.head(), concat_data.shape)\n",
        "concat_data.to_csv('/content/drive/MyDrive/Colab Notebooks/LEXILE/data/all_raw_data.csv', index=False)\n",
        "\n"
      ],
      "metadata": {
        "colab": {
          "base_uri": "https://localhost:8080/"
        },
        "id": "5-ro1pF-orbe",
        "outputId": "e532ca9a-47f0-4c97-bcda-30538c85f1a6"
      },
      "execution_count": null,
      "outputs": [
        {
          "output_type": "stream",
          "name": "stdout",
          "text": [
            "                                                text  lexile\n",
            "1  International scam artists use clever schemes ...  1100.0\n",
            "2  A critical election loomed. The country was de...  1140.0\n",
            "3  It was a beautiful night in late August. We we...   810.0\n",
            "4  As Angela stared out the school bus window, he...   700.0\n",
            "5  In the 1950s and 1960s, racial conflicts were ...  1110.0 (1887, 2)\n"
          ]
        }
      ]
    },
    {
      "cell_type": "markdown",
      "source": [
        "## 3. 데이터 전처리 2 - all_raw_data 토큰화, 렉사일 지수를 적절한 기준에 따라 범주화 (final_data.pkl로 저장)\n"
      ],
      "metadata": {
        "id": "HaqrErSQqASR"
      }
    },
    {
      "cell_type": "markdown",
      "source": [
        "\n",
        "\n",
        "###1. 토큰화 방법\n",
        "- BERT는 한 번에 512토큰까지 처리 가능함\n",
        "- BERT는 CLS 토큰과 SEP 토큰으로 둘러싸여 있는 부분을 한 문장으로 인식\n",
        "- 그러한 방식으로 최대 두 문장까지밖에 인식 불가\n",
        "- 하지만 지금 all_raw_data.csv의 한 셀 안에 수많은 문장들이 들어 있음\n",
        "- 즉 각각의 셀마다 512토큰을 훌쩍 넘는 길이의 글들이 3개 이상의 문장들로 존재\n",
        "- 이를 적절히 해결하기 위해 다음과 같은 방법을 거칠 것\n",
        "-- 하나의 셀이 512토큰을 넘으면 쪼개기\n",
        "-- 실제로는 여러 문장들로 구성되어 있어도 앞뒤로 CLS 토큰과 SEP 토큰을 넣어서 한 문장인 것처럼 만들기\n",
        "\n",
        "-- 하나의 셀이 512토큰을 넘으면 쪼개기 -> 이 경우 뒤에 남은 꼬다리 글의 길이가 너무 짧을 수 있음\n",
        "\n",
        "-- 그게 아니더라도 길이가 너무 짧은 글들은 제거해야 함 (정보가 너무 없기 때문)\n",
        "\n",
        "---> 해결 방법: 토큰 길이의 분포, 사분위수를 파악하여 토큰 길이의 하한선 설정, 기준 미달인 행 제거\n",
        "\n",
        "----마지막으로 패딩, attention mask, token type id 추가\n",
        "\n",
        "\n",
        "-----------------------------------------------------------------------------\n",
        "\n",
        "\n",
        "###2. 렉사일 지수를 적절한 기준에 따라 범주화\n",
        "- 회귀 모델을 구성하기보다 범주 예측 모델을 만드는 것이 더 적합함\n",
        "- 우리의 궁극적인 목표는 적절한 난이도의 글을 학생에게 추천하는 것\n",
        "- 범주의 수가 너무 적지만 않다면 범주 예측 모델로도 충분히 가능함\n",
        "- 이에 비해 정확한 하나의 숫자로 예측하는 것에 대한 메리트가 크지 않음\n",
        "\n",
        "-----그렇다면 어떤 기준에 따라 렉사일 지수 구간을 나눌 것인가?\n",
        "1. 범주의 개수가 너무 적으면 안 됨 (예를 들어 2~4개 범주로 나누는 경우)\n",
        "2. 각 범주마다 비슷한 개수의 데이터가 있어야 함 (성능이 좋은 모델을 만들기 위해)\n",
        "\n",
        "이에 따라\n",
        "\n",
        "- 렉사일 지수의 분포를 히스토그램으로 파악\n",
        "- 시행착오 끝에 6개 범주, 각 경계값은 (100/6)% 퍼센타일로 하면 앞의 두 조건을 만족시킬 수 있다는 것을 알게 되었음 + 렉사일 지수 구간의 크기도 약 200씩으로 일정한 편\n",
        "- 그렇게 범주화 진행, 렉사일 지수가 가장 작은 구간부터 0~5의 정수 부여 (다중 분류 모델을 학습시키기 위한 loss function으로 cross entropy가 주로 사용되며, 이 함수를 사용하기 위해서는 이런 방식으로 레이블을 붙여야 함\n",
        "\n",
        "\n",
        "###3. all_raw_data 토큰화, 0~5로 범주화된 렉사일 지수를 (final_data.pkl로 저장)\n"
      ],
      "metadata": {
        "id": "gIrqQF3dz1y8"
      }
    },
    {
      "cell_type": "code",
      "source": [
        "from transformers import BertTokenizer\n",
        "import pandas as pd\n",
        "import pickle\n",
        "import torch # 머신러닝, 딥러닝 모델 구축, gpu 적극적으로 활용 가능해짐 ex) .to(device)\n",
        "import nltk\n",
        "from nltk.tokenize import sent_tokenize"
      ],
      "metadata": {
        "id": "4O2tPQo8_cwK"
      },
      "execution_count": null,
      "outputs": []
    },
    {
      "cell_type": "code",
      "source": [
        "# Google Drive 마운트 (데이터 파일 접근을 위해)\n",
        "from google.colab import drive\n",
        "drive.mount('/content/drive', force_remount=True)\n"
      ],
      "metadata": {
        "colab": {
          "base_uri": "https://localhost:8080/"
        },
        "id": "-cSXwIf8_2F0",
        "outputId": "43a620f1-eb48-4b25-fcad-871b65399fde"
      },
      "execution_count": null,
      "outputs": [
        {
          "output_type": "stream",
          "name": "stdout",
          "text": [
            "Mounted at /content/drive\n"
          ]
        }
      ]
    },
    {
      "cell_type": "code",
      "source": [
        "# all_raw_data.csv 데이터 로드\n",
        "# 데이터 경로 설정 (Google Drive에 있는 파일 경로)\n",
        "path = '/content/drive/MyDrive/Colab Notebooks/LEXILE/data/all_raw_data.csv'\n",
        "print(f\"Loading data from: {path}\")\n",
        "raw_data = pd.read_csv(path)\n"
      ],
      "metadata": {
        "colab": {
          "base_uri": "https://localhost:8080/"
        },
        "id": "XV7nvd0Z_5Af",
        "outputId": "895d320f-f74e-4628-809e-77c372779a53"
      },
      "execution_count": null,
      "outputs": [
        {
          "output_type": "stream",
          "name": "stdout",
          "text": [
            "Loading data from: /content/drive/MyDrive/Colab Notebooks/LEXILE/data/all_raw_data.csv\n"
          ]
        }
      ]
    },
    {
      "cell_type": "code",
      "source": [
        "# 잘 로드되었는지 확인\n",
        "print(raw_data.head())"
      ],
      "metadata": {
        "colab": {
          "base_uri": "https://localhost:8080/"
        },
        "id": "2e2beWNsAOhc",
        "outputId": "8c2fa5fd-90f9-4a11-c35f-62b967f4319b"
      },
      "execution_count": null,
      "outputs": [
        {
          "output_type": "stream",
          "name": "stdout",
          "text": [
            "                                                text  lexile\n",
            "0  International scam artists use clever schemes ...  1100.0\n",
            "1  A critical election loomed. The country was de...  1140.0\n",
            "2  It was a beautiful night in late August. We we...   810.0\n",
            "3  As Angela stared out the school bus window, he...   700.0\n",
            "4  In the 1950s and 1960s, racial conflicts were ...  1110.0\n"
          ]
        }
      ]
    },
    {
      "cell_type": "code",
      "source": [
        "# 데이터 로드 및 토크나이저 초기화\n",
        "raw_data\n",
        "tokenizer = BertTokenizer.from_pretrained('bert-base-uncased')\n",
        "\n",
        "# 결측치 제거\n",
        "raw_data = raw_data.dropna(subset=['text']).reset_index(drop=True)\n",
        "\n",
        "# 결과를 저장할 DataFrame 초기화\n",
        "final_data = pd.DataFrame(columns=[\"input_ids\", \"raw_index\"])\n",
        "\n",
        "# 슬라이딩 윈도우 함수 정의\n",
        "def sliding_window(text, index, max_length=512):\n",
        "    tokens = tokenizer.encode(text, add_special_tokens=False, truncation=False)  # truncation=False로 명시적으로 설정\n",
        "    windows = []\n",
        "\n",
        "    # 슬라이딩 윈도우 적용\n",
        "    start = 0\n",
        "    while start < len(tokens):\n",
        "        end = min(start + max_length - 2, len(tokens))\n",
        "        window = tokens[start:end]\n",
        "        window = [tokenizer.cls_token_id] + window + [tokenizer.sep_token_id]  # CLS, SEP 추가\n",
        "        windows.append((window, index))\n",
        "        start += max_length - 2  # 윈도우 중첩 간격 조정\n",
        "\n",
        "    return windows\n",
        "\n",
        "# 각 행에 대해 슬라이딩 윈도우 적용\n",
        "all_windows = []\n",
        "for idx, row in raw_data.iterrows():\n",
        "    try:\n",
        "        windows = sliding_window(row['text'], idx)\n",
        "        for window, raw_idx in windows:\n",
        "            all_windows.append({\"input_ids\": window, \"raw_index\": raw_idx})\n",
        "    except Exception as e:\n",
        "        print(f\"Error processing row {idx}: {e}\")\n",
        "\n",
        "# 최종 DataFrame으로 변환\n",
        "final_data = pd.DataFrame(all_windows)\n",
        "\n",
        "# 결과 확인\n",
        "print(final_data.head())\n",
        "print(\"Final shape of final_data:\", final_data.shape)\n"
      ],
      "metadata": {
        "colab": {
          "base_uri": "https://localhost:8080/",
          "height": 400,
          "referenced_widgets": [
            "9f9eb5f62ea74b4788c1d679ff643fac",
            "52061678dd8644719f6aa0503ea499a2",
            "1209b6fda0544caca7f1fc1639f84040",
            "25cfe4de1eef4da7a16a2ee95bda75a3",
            "8e8447fc431d4af88673ee6f23a81790",
            "fd956548f43f41c382867fb7f33b8450",
            "8b86e1669df64941983ac9ea9958c05b",
            "57180c6f938142ca8d70f2ca9e97fa26",
            "797ef00a684f42ee99502426c01c2a5d",
            "d4e920eea93f4a8895dd6df5613b7b9f",
            "69e2e87d73f745d394e06f299b3175f6",
            "8db1d6f866d142359f452a899b5cc904",
            "e47418dc5e7543a4bd28e7e893ddb933",
            "8052f885026f4b3fb839a75ff9cd9f51",
            "6f23746328db4debb25bfd720774d450",
            "baee4a949fc244f4897daed452dd1909",
            "caf18dbbd9324dfc9ce850df78e1e8b3",
            "023015aa139b48079144142f10679125",
            "8e9bc469a05c491e8146da26e71486c7",
            "61a3267aafbe4e58b5de97e0dff89118",
            "5aa2a13dc8cb4a6b90d5a573af9f2076",
            "898ed01f160f40c8ab8ac4e187395f76",
            "4a0c220dfd8f4f7199728d69b8bffe2d",
            "dc7e9a8c312647a7b84f9842aa5ad5d5",
            "858d2115d31449fe8ba2f576552f2236",
            "90290b4736334ddeb69311a70218cc19",
            "0b1f17a903534dd493b6d322ddde56b9",
            "d6d16a17163a49cb8d544281fc2eefeb",
            "e1c97b44470445f795acb3fdb6e7a93d",
            "7c0d32e96b93497b8b49c58ff8e8350a",
            "9004fc0ae969452ba0d41d0f5cd6c45a",
            "ba635d7e46e74a38aefb3fc63dc7859f",
            "e9873e68c9c84448b1d310fcbac41f1e",
            "dc07b1beed234027b5668d2da44568d8",
            "29580aebc7b94beeb1338ec3d2ee3790",
            "dac2d3b0ff614811839710daa054b7bb",
            "922ec626c0eb4ed7ba0e05c34d2002d8",
            "f11e20b471234d8881d9b604b8735d53",
            "c41b5ccb824c42778ffa6c3df75f68e9",
            "4a4a1fe977e0470788c1821ba520e8f1",
            "ad3807e4090b40979881f8ede0e69a9b",
            "27d201650b9e4bb3a4a30de88aaa7ce3",
            "e4b75caf01034c20bc8fd9b543133603",
            "dad951a172774610b740a3bc8862ff74"
          ]
        },
        "id": "T9Z25BZyIL3M",
        "outputId": "329e25aa-0cfd-4679-e9a4-bc846a6789b8"
      },
      "execution_count": null,
      "outputs": [
        {
          "output_type": "stream",
          "name": "stderr",
          "text": [
            "/usr/local/lib/python3.10/dist-packages/huggingface_hub/utils/_auth.py:94: UserWarning: \n",
            "The secret `HF_TOKEN` does not exist in your Colab secrets.\n",
            "To authenticate with the Hugging Face Hub, create a token in your settings tab (https://huggingface.co/settings/tokens), set it as secret in your Google Colab and restart your session.\n",
            "You will be able to reuse this secret in all of your notebooks.\n",
            "Please note that authentication is recommended but still optional to access public models or datasets.\n",
            "  warnings.warn(\n"
          ]
        },
        {
          "output_type": "display_data",
          "data": {
            "text/plain": [
              "tokenizer_config.json:   0%|          | 0.00/48.0 [00:00<?, ?B/s]"
            ],
            "application/vnd.jupyter.widget-view+json": {
              "version_major": 2,
              "version_minor": 0,
              "model_id": "9f9eb5f62ea74b4788c1d679ff643fac"
            }
          },
          "metadata": {}
        },
        {
          "output_type": "display_data",
          "data": {
            "text/plain": [
              "vocab.txt:   0%|          | 0.00/232k [00:00<?, ?B/s]"
            ],
            "application/vnd.jupyter.widget-view+json": {
              "version_major": 2,
              "version_minor": 0,
              "model_id": "8db1d6f866d142359f452a899b5cc904"
            }
          },
          "metadata": {}
        },
        {
          "output_type": "display_data",
          "data": {
            "text/plain": [
              "tokenizer.json:   0%|          | 0.00/466k [00:00<?, ?B/s]"
            ],
            "application/vnd.jupyter.widget-view+json": {
              "version_major": 2,
              "version_minor": 0,
              "model_id": "4a0c220dfd8f4f7199728d69b8bffe2d"
            }
          },
          "metadata": {}
        },
        {
          "output_type": "display_data",
          "data": {
            "text/plain": [
              "config.json:   0%|          | 0.00/570 [00:00<?, ?B/s]"
            ],
            "application/vnd.jupyter.widget-view+json": {
              "version_major": 2,
              "version_minor": 0,
              "model_id": "dc07b1beed234027b5668d2da44568d8"
            }
          },
          "metadata": {}
        },
        {
          "output_type": "stream",
          "name": "stderr",
          "text": [
            "Token indices sequence length is longer than the specified maximum sequence length for this model (1019 > 512). Running this sequence through the model will result in indexing errors\n"
          ]
        },
        {
          "output_type": "stream",
          "name": "stdout",
          "text": [
            "                                           input_ids  raw_index\n",
            "0  [101, 2248, 8040, 3286, 3324, 2224, 12266, 116...          0\n",
            "1  [101, 2113, 1998, 2059, 7318, 2769, 2067, 1010...          0\n",
            "2  [101, 1037, 4187, 2602, 24358, 1012, 1996, 240...          1\n",
            "3  [101, 1997, 2245, 1010, 1996, 2916, 1997, 3633...          1\n",
            "4  [101, 8742, 2389, 2034, 25493, 3462, 2408, 199...          1\n",
            "Final shape of final_data: (40704, 2)\n"
          ]
        }
      ]
    },
    {
      "cell_type": "code",
      "source": [
        "# 데이터 로드 및 토크나이저 초기화\n",
        "final_data\n",
        "tokenizer = BertTokenizer.from_pretrained('bert-base-uncased')\n",
        "\n",
        "# 토큰 길이가 너무 짧은 경우, 삭제\n",
        "\n",
        "# 1. 토큰 길이의 분포 파악하기 + 토큰 길이의 하한선 정하기\n",
        "token_length = []\n",
        "\n",
        "for i in final_data['input_ids']:\n",
        "    token_length.append(len(i))\n",
        "\n",
        "\n",
        "# print(token_length.describe())\n",
        "print(sum(token_length)/len(token_length))\n",
        "\n",
        "\n",
        "# 2. 토큰 길이가 너무 짧은 경우, 삭제\n",
        "final_data['token_length'] = token_length\n",
        "# token_length 열이 있는 final_data 데이터프레임에서 100보다 작은 행 제거\n",
        "final_data = final_data[final_data['token_length'] >= 100]\n",
        "\n",
        "\n",
        "# attention masks와 token type ids를 생성하는 함수 정의\n",
        "def add_attention_and_token_type_ids(final_data, max_length=512):\n",
        "    attention_masks = []\n",
        "    token_type_ids = []\n",
        "    padded_input_ids_list = []\n",
        "\n",
        "    for input_ids in final_data[\"input_ids\"]:\n",
        "        # 패딩 여부 확인\n",
        "        padding_length = max_length - len(input_ids)\n",
        "        if padding_length > 0:\n",
        "            padded_input_ids = input_ids + [tokenizer.pad_token_id] * padding_length\n",
        "        else:\n",
        "            padded_input_ids = input_ids[:max_length]\n",
        "\n",
        "        padded_input_ids_list.append(padded_input_ids)\n",
        "\n",
        "        # attention mask 생성\n",
        "        attention_mask = [1] * len(input_ids) + [0] * padding_length\n",
        "        token_type_id = [0] * max_length  # 기본적으로 모든 token_type_id를 0으로 설정\n",
        "\n",
        "        attention_masks.append(attention_mask[:max_length])\n",
        "        token_type_ids.append(token_type_id[:max_length])\n",
        "\n",
        "    # final_data에 추가\n",
        "    final_data[\"input_ids\"] = padded_input_ids_list\n",
        "    final_data[\"attention_masks\"] = attention_masks\n",
        "    final_data[\"token_type_ids\"] = token_type_ids\n",
        "    return final_data\n",
        "\n",
        "# attention masks와 token type ids 추가\n",
        "final_data = add_attention_and_token_type_ids(final_data)\n",
        "\n",
        "# 결과 확인\n",
        "print(final_data.head())\n",
        "print(final_data.shape)\n"
      ],
      "metadata": {
        "colab": {
          "base_uri": "https://localhost:8080/"
        },
        "id": "hLXKnWsfJ8jY",
        "outputId": "5c9a62c8-3e99-4c99-f695-06c623026e51"
      },
      "execution_count": null,
      "outputs": [
        {
          "output_type": "stream",
          "name": "stdout",
          "text": [
            "500.15890330188677\n",
            "                                           input_ids  raw_index  token_length  \\\n",
            "0  [101, 2248, 8040, 3286, 3324, 2224, 12266, 116...          0           512   \n",
            "1  [101, 2113, 1998, 2059, 7318, 2769, 2067, 1010...          0           511   \n",
            "2  [101, 1037, 4187, 2602, 24358, 1012, 1996, 240...          1           512   \n",
            "3  [101, 1997, 2245, 1010, 1996, 2916, 1997, 3633...          1           512   \n",
            "4  [101, 8742, 2389, 2034, 25493, 3462, 2408, 199...          1           512   \n",
            "\n",
            "                                     attention_masks  \\\n",
            "0  [1, 1, 1, 1, 1, 1, 1, 1, 1, 1, 1, 1, 1, 1, 1, ...   \n",
            "1  [1, 1, 1, 1, 1, 1, 1, 1, 1, 1, 1, 1, 1, 1, 1, ...   \n",
            "2  [1, 1, 1, 1, 1, 1, 1, 1, 1, 1, 1, 1, 1, 1, 1, ...   \n",
            "3  [1, 1, 1, 1, 1, 1, 1, 1, 1, 1, 1, 1, 1, 1, 1, ...   \n",
            "4  [1, 1, 1, 1, 1, 1, 1, 1, 1, 1, 1, 1, 1, 1, 1, ...   \n",
            "\n",
            "                                      token_type_ids  \n",
            "0  [0, 0, 0, 0, 0, 0, 0, 0, 0, 0, 0, 0, 0, 0, 0, ...  \n",
            "1  [0, 0, 0, 0, 0, 0, 0, 0, 0, 0, 0, 0, 0, 0, 0, ...  \n",
            "2  [0, 0, 0, 0, 0, 0, 0, 0, 0, 0, 0, 0, 0, 0, 0, ...  \n",
            "3  [0, 0, 0, 0, 0, 0, 0, 0, 0, 0, 0, 0, 0, 0, 0, ...  \n",
            "4  [0, 0, 0, 0, 0, 0, 0, 0, 0, 0, 0, 0, 0, 0, 0, ...  \n",
            "(40349, 5)\n"
          ]
        }
      ]
    },
    {
      "cell_type": "code",
      "source": [
        "lexile = []\n",
        "\n",
        "for idx in final_data['raw_index']:\n",
        "    lexile.append(raw_data['lexile'][idx])\n",
        "\n",
        "final_data['lexile'] = lexile\n",
        "\n",
        "print(final_data.head())\n",
        "print(final_data.shape)"
      ],
      "metadata": {
        "id": "ptGNGSk7Oyvp",
        "colab": {
          "base_uri": "https://localhost:8080/"
        },
        "outputId": "a10bc651-56ee-48fd-eac7-d4bb5ac79a3c"
      },
      "execution_count": null,
      "outputs": [
        {
          "output_type": "stream",
          "name": "stdout",
          "text": [
            "                                           input_ids  raw_index  token_length  \\\n",
            "0  [101, 2248, 8040, 3286, 3324, 2224, 12266, 116...          0           512   \n",
            "1  [101, 2113, 1998, 2059, 7318, 2769, 2067, 1010...          0           511   \n",
            "2  [101, 1037, 4187, 2602, 24358, 1012, 1996, 240...          1           512   \n",
            "3  [101, 1997, 2245, 1010, 1996, 2916, 1997, 3633...          1           512   \n",
            "4  [101, 8742, 2389, 2034, 25493, 3462, 2408, 199...          1           512   \n",
            "\n",
            "                                     attention_masks  \\\n",
            "0  [1, 1, 1, 1, 1, 1, 1, 1, 1, 1, 1, 1, 1, 1, 1, ...   \n",
            "1  [1, 1, 1, 1, 1, 1, 1, 1, 1, 1, 1, 1, 1, 1, 1, ...   \n",
            "2  [1, 1, 1, 1, 1, 1, 1, 1, 1, 1, 1, 1, 1, 1, 1, ...   \n",
            "3  [1, 1, 1, 1, 1, 1, 1, 1, 1, 1, 1, 1, 1, 1, 1, ...   \n",
            "4  [1, 1, 1, 1, 1, 1, 1, 1, 1, 1, 1, 1, 1, 1, 1, ...   \n",
            "\n",
            "                                      token_type_ids  lexile  \n",
            "0  [0, 0, 0, 0, 0, 0, 0, 0, 0, 0, 0, 0, 0, 0, 0, ...  1100.0  \n",
            "1  [0, 0, 0, 0, 0, 0, 0, 0, 0, 0, 0, 0, 0, 0, 0, ...  1100.0  \n",
            "2  [0, 0, 0, 0, 0, 0, 0, 0, 0, 0, 0, 0, 0, 0, 0, ...  1140.0  \n",
            "3  [0, 0, 0, 0, 0, 0, 0, 0, 0, 0, 0, 0, 0, 0, 0, ...  1140.0  \n",
            "4  [0, 0, 0, 0, 0, 0, 0, 0, 0, 0, 0, 0, 0, 0, 0, ...  1140.0  \n",
            "(40349, 6)\n"
          ]
        }
      ]
    },
    {
      "cell_type": "code",
      "source": [
        "print(final_data.head(), final_data.shape)\n",
        "# NaN 값 확인\n",
        "nan_count = final_data['token_type_ids'].isnull().sum()\n",
        "print(f\"NaN 개수: {nan_count}\")\n",
        "\n",
        "# NaN 값이 포함된 행 출력\n",
        "print(final_data[final_data['token_type_ids'].isnull()])\n",
        "\n",
        "# NaN이 포함된 행 제거\n",
        "final_data = final_data.dropna(subset=['token_type_ids'])\n",
        "\n",
        "# 결과 확인\n",
        "print(f\"NaN 제거 후 데이터 개수: {len(final_data)}\")"
      ],
      "metadata": {
        "colab": {
          "base_uri": "https://localhost:8080/"
        },
        "id": "64_nmFcxRm4T",
        "outputId": "ba6c7959-09f8-4e5d-be31-004ccb1d4db5"
      },
      "execution_count": null,
      "outputs": [
        {
          "output_type": "stream",
          "name": "stdout",
          "text": [
            "                                           input_ids  raw_index  token_length  \\\n",
            "0  [101, 2248, 8040, 3286, 3324, 2224, 12266, 116...          0           512   \n",
            "1  [101, 2113, 1998, 2059, 7318, 2769, 2067, 1010...          0           511   \n",
            "2  [101, 1037, 4187, 2602, 24358, 1012, 1996, 240...          1           512   \n",
            "3  [101, 1997, 2245, 1010, 1996, 2916, 1997, 3633...          1           512   \n",
            "4  [101, 8742, 2389, 2034, 25493, 3462, 2408, 199...          1           512   \n",
            "\n",
            "                                     attention_masks  \\\n",
            "0  [1, 1, 1, 1, 1, 1, 1, 1, 1, 1, 1, 1, 1, 1, 1, ...   \n",
            "1  [1, 1, 1, 1, 1, 1, 1, 1, 1, 1, 1, 1, 1, 1, 1, ...   \n",
            "2  [1, 1, 1, 1, 1, 1, 1, 1, 1, 1, 1, 1, 1, 1, 1, ...   \n",
            "3  [1, 1, 1, 1, 1, 1, 1, 1, 1, 1, 1, 1, 1, 1, 1, ...   \n",
            "4  [1, 1, 1, 1, 1, 1, 1, 1, 1, 1, 1, 1, 1, 1, 1, ...   \n",
            "\n",
            "                                      token_type_ids  lexile  \n",
            "0  [0, 0, 0, 0, 0, 0, 0, 0, 0, 0, 0, 0, 0, 0, 0, ...  1100.0  \n",
            "1  [0, 0, 0, 0, 0, 0, 0, 0, 0, 0, 0, 0, 0, 0, 0, ...  1100.0  \n",
            "2  [0, 0, 0, 0, 0, 0, 0, 0, 0, 0, 0, 0, 0, 0, 0, ...  1140.0  \n",
            "3  [0, 0, 0, 0, 0, 0, 0, 0, 0, 0, 0, 0, 0, 0, 0, ...  1140.0  \n",
            "4  [0, 0, 0, 0, 0, 0, 0, 0, 0, 0, 0, 0, 0, 0, 0, ...  1140.0   (40349, 6)\n",
            "NaN 개수: 0\n",
            "Empty DataFrame\n",
            "Columns: [input_ids, raw_index, token_length, attention_masks, token_type_ids, lexile]\n",
            "Index: []\n",
            "NaN 제거 후 데이터 개수: 40349\n"
          ]
        }
      ]
    },
    {
      "cell_type": "markdown",
      "source": [
        "렉사일 지수를 범주로 잘라야 하는데, 좋은 기준이 없을까?\n",
        "\n",
        "렉사일 지수 분포를 파악한 후 n개 구간으로 동일하게 자르기\n",
        "\n",
        "n=6일 때,\n",
        "결과를 보면 각 구간마다 1/6만큼 동일한 비율로 데이터 개수들이 있고,\n",
        "렉사일 지수 구간의 크기도 약 200씩으로 일정한 편\n"
      ],
      "metadata": {
        "id": "OMtiVCIGSHL8"
      }
    },
    {
      "cell_type": "code",
      "source": [
        "# 렉사일 지수 분포 파악\n",
        "\n",
        "# 토큰 길이 계산\n",
        "final_data['token_length'] = final_data['input_ids'].apply(len)\n",
        "\n",
        "# 통계 요약\n",
        "print('토큰 길이 분포')\n",
        "print(final_data['token_length'].describe())\n",
        "# 히스토그램으로 분포 확인\n",
        "import matplotlib.pyplot as plt\n",
        "plt.hist(final_data['token_length'], bins=100, edgecolor='k')\n",
        "plt.xlabel('token length')\n",
        "plt.ylabel('number')\n",
        "plt.title('token length dist.')\n",
        "plt.show()\n",
        "\n",
        "# 통계 요약\n",
        "print('렉사일 지수 분포')\n",
        "print(final_data['lexile'].describe())\n",
        "\n",
        "# 히스토그램으로 분포 확인\n",
        "plt.hist(final_data['lexile'], bins=100, edgecolor='k')\n",
        "plt.xlabel('lexile level')\n",
        "plt.ylabel('number')\n",
        "plt.title('lexile level dist.')\n",
        "plt.show()"
      ],
      "metadata": {
        "colab": {
          "base_uri": "https://localhost:8080/",
          "height": 1000
        },
        "id": "XjsHJ7p3yYB0",
        "outputId": "0a21ad63-436c-47c8-ab16-3d5696126f8b"
      },
      "execution_count": null,
      "outputs": [
        {
          "output_type": "stream",
          "name": "stdout",
          "text": [
            "토큰 길이 분포\n",
            "count    40349.0\n",
            "mean       512.0\n",
            "std          0.0\n",
            "min        512.0\n",
            "25%        512.0\n",
            "50%        512.0\n",
            "75%        512.0\n",
            "max        512.0\n",
            "Name: token_length, dtype: float64\n"
          ]
        },
        {
          "output_type": "display_data",
          "data": {
            "text/plain": [
              "<Figure size 640x480 with 1 Axes>"
            ],
            "image/png": "[encoded data removed]"
          },
          "metadata": {}
        },
        {
          "output_type": "stream",
          "name": "stdout",
          "text": [
            "렉사일 지수 분포\n",
            "count    40349.000000\n",
            "mean       910.974151\n",
            "std        287.370599\n",
            "min         30.000000\n",
            "25%        690.000000\n",
            "50%        980.000000\n",
            "75%       1120.000000\n",
            "max       2650.000000\n",
            "Name: lexile, dtype: float64\n"
          ]
        },
        {
          "output_type": "display_data",
          "data": {
            "text/plain": [
              "<Figure size 640x480 with 1 Axes>"
            ],
            "image/png": "[encoded data removed]"
          },
          "metadata": {}
        }
      ]
    },
    {
      "cell_type": "code",
      "source": [
        "import numpy as np\n",
        "quantiles = np.linspace(0, 1, 6+1)\n",
        "print(final_data['lexile'].quantile(quantiles))\n"
      ],
      "metadata": {
        "colab": {
          "base_uri": "https://localhost:8080/"
        },
        "id": "RASeNmaXSGfE",
        "outputId": "7caa72c9-44c7-467e-8bed-5e2742cbe135"
      },
      "execution_count": null,
      "outputs": [
        {
          "output_type": "stream",
          "name": "stdout",
          "text": [
            "0.000000      30.0\n",
            "0.166667     610.0\n",
            "0.333333     810.0\n",
            "0.500000     980.0\n",
            "0.666667    1070.0\n",
            "0.833333    1200.0\n",
            "1.000000    2650.0\n",
            "Name: lexile, dtype: float64\n"
          ]
        }
      ]
    },
    {
      "cell_type": "code",
      "source": [
        "#렉사일 점수를 6개의 범주로 나누기\n",
        "bins = [0, 610, 810, 980, 1070, 1200, 2650]\n",
        "labels = list(range(6))\n",
        "\n",
        "lexile_categories = pd.cut(final_data['lexile'], labels=labels, bins=bins)\n",
        "\n",
        "#각 범주 별 할당된 데이터\n",
        "print(lexile_categories.value_counts())\n",
        "\n",
        "#범주형 데이터를 정수로 변환\n",
        "lexile_categories = lexile_categories.astype(int).tolist()\n",
        "final_data['lexile'] = lexile_categories\n",
        "\n",
        "print(final_data.head())"
      ],
      "metadata": {
        "colab": {
          "base_uri": "https://localhost:8080/"
        },
        "id": "NFokD1DXSSyH",
        "outputId": "1c223b8e-20b2-442d-96ca-fcfde44ac334"
      },
      "execution_count": null,
      "outputs": [
        {
          "output_type": "stream",
          "name": "stdout",
          "text": [
            "lexile\n",
            "0    7185\n",
            "4    7137\n",
            "2    6925\n",
            "3    6637\n",
            "1    6383\n",
            "5    6082\n",
            "Name: count, dtype: int64\n",
            "                                           input_ids  raw_index  token_length  \\\n",
            "0  [101, 2248, 8040, 3286, 3324, 2224, 12266, 116...          0           512   \n",
            "1  [101, 2113, 1998, 2059, 7318, 2769, 2067, 1010...          0           511   \n",
            "2  [101, 1037, 4187, 2602, 24358, 1012, 1996, 240...          1           512   \n",
            "3  [101, 1997, 2245, 1010, 1996, 2916, 1997, 3633...          1           512   \n",
            "4  [101, 8742, 2389, 2034, 25493, 3462, 2408, 199...          1           512   \n",
            "\n",
            "                                     attention_masks  \\\n",
            "0  [1, 1, 1, 1, 1, 1, 1, 1, 1, 1, 1, 1, 1, 1, 1, ...   \n",
            "1  [1, 1, 1, 1, 1, 1, 1, 1, 1, 1, 1, 1, 1, 1, 1, ...   \n",
            "2  [1, 1, 1, 1, 1, 1, 1, 1, 1, 1, 1, 1, 1, 1, 1, ...   \n",
            "3  [1, 1, 1, 1, 1, 1, 1, 1, 1, 1, 1, 1, 1, 1, 1, ...   \n",
            "4  [1, 1, 1, 1, 1, 1, 1, 1, 1, 1, 1, 1, 1, 1, 1, ...   \n",
            "\n",
            "                                      token_type_ids  lexile  \n",
            "0  [0, 0, 0, 0, 0, 0, 0, 0, 0, 0, 0, 0, 0, 0, 0, ...       4  \n",
            "1  [0, 0, 0, 0, 0, 0, 0, 0, 0, 0, 0, 0, 0, 0, 0, ...       4  \n",
            "2  [0, 0, 0, 0, 0, 0, 0, 0, 0, 0, 0, 0, 0, 0, 0, ...       4  \n",
            "3  [0, 0, 0, 0, 0, 0, 0, 0, 0, 0, 0, 0, 0, 0, 0, ...       4  \n",
            "4  [0, 0, 0, 0, 0, 0, 0, 0, 0, 0, 0, 0, 0, 0, 0, ...       4  \n"
          ]
        }
      ]
    },
    {
      "cell_type": "code",
      "source": [
        "# final_data 피클로 저장\n",
        "with open('final_data.pkl', 'wb') as f2:\n",
        "    pickle.dump(final_data, f2)\n",
        "\n",
        "from google.colab import files\n",
        "files.download('final_data.pkl')"
      ],
      "metadata": {
        "colab": {
          "base_uri": "https://localhost:8080/",
          "height": 17
        },
        "id": "XIVn9JDqU8ln",
        "outputId": "f663e01d-7b9f-48d4-f254-faaf91429ee8"
      },
      "execution_count": null,
      "outputs": [
        {
          "output_type": "display_data",
          "data": {
            "text/plain": [
              "<IPython.core.display.Javascript object>"
            ],
            "application/javascript": [
              "\n",
              "    async function download(id, filename, size) {\n",
              "      if (!google.colab.kernel.accessAllowed) {\n",
              "        return;\n",
              "      }\n",
              "      const div = document.createElement('div');\n",
              "      const label = document.createElement('label');\n",
              "      label.textContent = `Downloading \"${filename}\": `;\n",
              "      div.appendChild(label);\n",
              "      const progress = document.createElement('progress');\n",
              "      progress.max = size;\n",
              "      div.appendChild(progress);\n",
              "      document.body.appendChild(div);\n",
              "\n",
              "      const buffers = [];\n",
              "      let downloaded = 0;\n",
              "\n",
              "      const channel = await google.colab.kernel.comms.open(id);\n",
              "      // Send a message to notify the kernel that we're ready.\n",
              "      channel.send({})\n",
              "\n",
              "      for await (const message of channel.messages) {\n",
              "        // Send a message to notify the kernel that we're ready.\n",
              "        channel.send({})\n",
              "        if (message.buffers) {\n",
              "          for (const buffer of message.buffers) {\n",
              "            buffers.push(buffer);\n",
              "            downloaded += buffer.byteLength;\n",
              "            progress.value = downloaded;\n",
              "          }\n",
              "        }\n",
              "      }\n",
              "      const blob = new Blob(buffers, {type: 'application/binary'});\n",
              "      const a = document.createElement('a');\n",
              "      a.href = window.URL.createObjectURL(blob);\n",
              "      a.download = filename;\n",
              "      div.appendChild(a);\n",
              "      a.click();\n",
              "      div.remove();\n",
              "    }\n",
              "  "
            ]
          },
          "metadata": {}
        },
        {
          "output_type": "display_data",
          "data": {
            "text/plain": [
              "<IPython.core.display.Javascript object>"
            ],
            "application/javascript": [
              "download(\"download_223076e2-2267-4830-9d2b-b16ab3943eb6\", \"final_data.pkl\", 146329509)"
            ]
          },
          "metadata": {}
        }
      ]
    },
    {
      "cell_type": "markdown",
      "source": [
        "## 4. 데이터 전처리 3 - final_data.pkl을 BERT에 입력, 결과물 저장 (bert_embeddings.pkl로 저장)"
      ],
      "metadata": {
        "id": "l3vE1kmMy8mA"
      }
    },
    {
      "cell_type": "markdown",
      "source": [
        "우리가 지금 진행하고자 하는 방식은 BERT의 파라미터를 고정시키고,\n",
        "FC layer만 학습하는 방식\n",
        "\n",
        "BERT에 데이터를 통과시킨 후 결과 데이터를 가지고\n",
        "FC layer를 학습시키는 데 집중할 것임\n",
        "\n",
        "처음에 생각했던 방식은,\n",
        "토큰화된 데이터를 BERT와 FC layer 모두 통과시키는 방법으로 학습했음\n",
        "\n",
        "각 에포크마다 데이터를 BERT에 다시 통과시켜야 하기 때문에 효율이 떨어짐\n",
        "\n",
        "1. 토큰화된 데이터를 BERT에 입력한다\n",
        "2. BERT에서 출력된 결과물을 가지고 FC layer를 학습시킨다.\n",
        "3. FC layer에만 집중할 수 있으므로,\n",
        "    에포크 수를 늘리던가(BERT가 포함되면 에포크 수는 3~5정도까지밖에 안 됨) 여러가지 방법을 가지고\n",
        "    정확도와 효율을 동시에 잡을 것\n",
        "4. 코랩의 Lexile data preprocessing.ipynb에서 진행할 예정"
      ],
      "metadata": {
        "id": "x8Z_nNnfeuFz"
      }
    },
    {
      "cell_type": "code",
      "source": [
        "from transformers import BertModel, BertTokenizer\n",
        "import pandas as pd # 데이터 프레임 다루기\n",
        "import pickle # 피클 형식 데이터 불러오기\n",
        "import random # 데이터 검증 시 랜덤으로 하나 선택하기 위함\n",
        "import torch\n",
        "from torch.utils.data import Dataset, DataLoader"
      ],
      "metadata": {
        "id": "VyFAq0Z7esuk",
        "colab": {
          "base_uri": "https://localhost:8080/",
          "height": 279
        },
        "outputId": "0469b8c1-cba3-4363-9ff7-f8a0773c7b88"
      },
      "execution_count": null,
      "outputs": [
        {
          "output_type": "error",
          "ename": "KeyboardInterrupt",
          "evalue": "",
          "traceback": [
            "\u001b[0;31m---------------------------------------------------------------------------\u001b[0m",
            "\u001b[0;31mKeyboardInterrupt\u001b[0m                         Traceback (most recent call last)",
            "\u001b[0;32m<ipython-input-25-c78e295e68a8>\u001b[0m in \u001b[0;36m<cell line: 1>\u001b[0;34m()\u001b[0m\n\u001b[0;32m----> 1\u001b[0;31m \u001b[0;32mfrom\u001b[0m \u001b[0mtransformers\u001b[0m \u001b[0;32mimport\u001b[0m \u001b[0mBertModel\u001b[0m\u001b[0;34m,\u001b[0m \u001b[0mBertTokenizer\u001b[0m\u001b[0;34m\u001b[0m\u001b[0;34m\u001b[0m\u001b[0m\n\u001b[0m\u001b[1;32m      2\u001b[0m \u001b[0;32mimport\u001b[0m \u001b[0mpandas\u001b[0m \u001b[0;32mas\u001b[0m \u001b[0mpd\u001b[0m \u001b[0;31m# 데이터 프레임 다루기\u001b[0m\u001b[0;34m\u001b[0m\u001b[0;34m\u001b[0m\u001b[0m\n\u001b[1;32m      3\u001b[0m \u001b[0;32mimport\u001b[0m \u001b[0mpickle\u001b[0m \u001b[0;31m# 피클 형식 데이터 불러오기\u001b[0m\u001b[0;34m\u001b[0m\u001b[0;34m\u001b[0m\u001b[0m\n\u001b[1;32m      4\u001b[0m \u001b[0;32mimport\u001b[0m \u001b[0mrandom\u001b[0m \u001b[0;31m# 데이터 검증 시 랜덤으로 하나 선택하기 위함\u001b[0m\u001b[0;34m\u001b[0m\u001b[0;34m\u001b[0m\u001b[0m\n\u001b[1;32m      5\u001b[0m \u001b[0;32mimport\u001b[0m \u001b[0mtorch\u001b[0m\u001b[0;34m\u001b[0m\u001b[0;34m\u001b[0m\u001b[0m\n",
            "\u001b[0;32m/usr/lib/python3.10/importlib/_bootstrap.py\u001b[0m in \u001b[0;36m_handle_fromlist\u001b[0;34m(module, fromlist, import_, recursive)\u001b[0m\n",
            "\u001b[0;32m/usr/local/lib/python3.10/dist-packages/transformers/utils/import_utils.py\u001b[0m in \u001b[0;36m__getattr__\u001b[0;34m(self, name)\u001b[0m\n\u001b[1;32m   1765\u001b[0m         \u001b[0;32melif\u001b[0m \u001b[0mname\u001b[0m \u001b[0;32min\u001b[0m \u001b[0mself\u001b[0m\u001b[0;34m.\u001b[0m\u001b[0m_class_to_module\u001b[0m\u001b[0;34m.\u001b[0m\u001b[0mkeys\u001b[0m\u001b[0;34m(\u001b[0m\u001b[0;34m)\u001b[0m\u001b[0;34m:\u001b[0m\u001b[0;34m\u001b[0m\u001b[0;34m\u001b[0m\u001b[0m\n\u001b[1;32m   1766\u001b[0m             \u001b[0mmodule\u001b[0m \u001b[0;34m=\u001b[0m \u001b[0mself\u001b[0m\u001b[0;34m.\u001b[0m\u001b[0m_get_module\u001b[0m\u001b[0;34m(\u001b[0m\u001b[0mself\u001b[0m\u001b[0;34m.\u001b[0m\u001b[0m_class_to_module\u001b[0m\u001b[0;34m[\u001b[0m\u001b[0mname\u001b[0m\u001b[0;34m]\u001b[0m\u001b[0;34m)\u001b[0m\u001b[0;34m\u001b[0m\u001b[0;34m\u001b[0m\u001b[0m\n\u001b[0;32m-> 1767\u001b[0;31m             \u001b[0mvalue\u001b[0m \u001b[0;34m=\u001b[0m \u001b[0mgetattr\u001b[0m\u001b[0;34m(\u001b[0m\u001b[0mmodule\u001b[0m\u001b[0;34m,\u001b[0m \u001b[0mname\u001b[0m\u001b[0;34m)\u001b[0m\u001b[0;34m\u001b[0m\u001b[0;34m\u001b[0m\u001b[0m\n\u001b[0m\u001b[1;32m   1768\u001b[0m         \u001b[0;32melif\u001b[0m \u001b[0mname\u001b[0m \u001b[0;32min\u001b[0m \u001b[0mself\u001b[0m\u001b[0;34m.\u001b[0m\u001b[0m_modules\u001b[0m\u001b[0;34m:\u001b[0m\u001b[0;34m\u001b[0m\u001b[0;34m\u001b[0m\u001b[0m\n\u001b[1;32m   1769\u001b[0m             \u001b[0mvalue\u001b[0m \u001b[0;34m=\u001b[0m \u001b[0mself\u001b[0m\u001b[0;34m.\u001b[0m\u001b[0m_get_module\u001b[0m\u001b[0;34m(\u001b[0m\u001b[0mname\u001b[0m\u001b[0;34m)\u001b[0m\u001b[0;34m\u001b[0m\u001b[0;34m\u001b[0m\u001b[0m\n",
            "\u001b[0;32m/usr/local/lib/python3.10/dist-packages/transformers/utils/import_utils.py\u001b[0m in \u001b[0;36m__getattr__\u001b[0;34m(self, name)\u001b[0m\n\u001b[1;32m   1764\u001b[0m             \u001b[0mvalue\u001b[0m \u001b[0;34m=\u001b[0m \u001b[0mPlaceholder\u001b[0m\u001b[0;34m\u001b[0m\u001b[0;34m\u001b[0m\u001b[0m\n\u001b[1;32m   1765\u001b[0m         \u001b[0;32melif\u001b[0m \u001b[0mname\u001b[0m \u001b[0;32min\u001b[0m \u001b[0mself\u001b[0m\u001b[0;34m.\u001b[0m\u001b[0m_class_to_module\u001b[0m\u001b[0;34m.\u001b[0m\u001b[0mkeys\u001b[0m\u001b[0;34m(\u001b[0m\u001b[0;34m)\u001b[0m\u001b[0;34m:\u001b[0m\u001b[0;34m\u001b[0m\u001b[0;34m\u001b[0m\u001b[0m\n\u001b[0;32m-> 1766\u001b[0;31m             \u001b[0mmodule\u001b[0m \u001b[0;34m=\u001b[0m \u001b[0mself\u001b[0m\u001b[0;34m.\u001b[0m\u001b[0m_get_module\u001b[0m\u001b[0;34m(\u001b[0m\u001b[0mself\u001b[0m\u001b[0;34m.\u001b[0m\u001b[0m_class_to_module\u001b[0m\u001b[0;34m[\u001b[0m\u001b[0mname\u001b[0m\u001b[0;34m]\u001b[0m\u001b[0;34m)\u001b[0m\u001b[0;34m\u001b[0m\u001b[0;34m\u001b[0m\u001b[0m\n\u001b[0m\u001b[1;32m   1767\u001b[0m             \u001b[0mvalue\u001b[0m \u001b[0;34m=\u001b[0m \u001b[0mgetattr\u001b[0m\u001b[0;34m(\u001b[0m\u001b[0mmodule\u001b[0m\u001b[0;34m,\u001b[0m \u001b[0mname\u001b[0m\u001b[0;34m)\u001b[0m\u001b[0;34m\u001b[0m\u001b[0;34m\u001b[0m\u001b[0m\n\u001b[1;32m   1768\u001b[0m         \u001b[0;32melif\u001b[0m \u001b[0mname\u001b[0m \u001b[0;32min\u001b[0m \u001b[0mself\u001b[0m\u001b[0;34m.\u001b[0m\u001b[0m_modules\u001b[0m\u001b[0;34m:\u001b[0m\u001b[0;34m\u001b[0m\u001b[0;34m\u001b[0m\u001b[0m\n",
            "\u001b[0;32m/usr/local/lib/python3.10/dist-packages/transformers/utils/import_utils.py\u001b[0m in \u001b[0;36m_get_module\u001b[0;34m(self, module_name)\u001b[0m\n\u001b[1;32m   1776\u001b[0m     \u001b[0;32mdef\u001b[0m \u001b[0m_get_module\u001b[0m\u001b[0;34m(\u001b[0m\u001b[0mself\u001b[0m\u001b[0;34m,\u001b[0m \u001b[0mmodule_name\u001b[0m\u001b[0;34m:\u001b[0m \u001b[0mstr\u001b[0m\u001b[0;34m)\u001b[0m\u001b[0;34m:\u001b[0m\u001b[0;34m\u001b[0m\u001b[0;34m\u001b[0m\u001b[0m\n\u001b[1;32m   1777\u001b[0m         \u001b[0;32mtry\u001b[0m\u001b[0;34m:\u001b[0m\u001b[0;34m\u001b[0m\u001b[0;34m\u001b[0m\u001b[0m\n\u001b[0;32m-> 1778\u001b[0;31m             \u001b[0;32mreturn\u001b[0m \u001b[0mimportlib\u001b[0m\u001b[0;34m.\u001b[0m\u001b[0mimport_module\u001b[0m\u001b[0;34m(\u001b[0m\u001b[0;34m\".\"\u001b[0m \u001b[0;34m+\u001b[0m \u001b[0mmodule_name\u001b[0m\u001b[0;34m,\u001b[0m \u001b[0mself\u001b[0m\u001b[0;34m.\u001b[0m\u001b[0m__name__\u001b[0m\u001b[0;34m)\u001b[0m\u001b[0;34m\u001b[0m\u001b[0;34m\u001b[0m\u001b[0m\n\u001b[0m\u001b[1;32m   1779\u001b[0m         \u001b[0;32mexcept\u001b[0m \u001b[0mException\u001b[0m \u001b[0;32mas\u001b[0m \u001b[0me\u001b[0m\u001b[0;34m:\u001b[0m\u001b[0;34m\u001b[0m\u001b[0;34m\u001b[0m\u001b[0m\n\u001b[1;32m   1780\u001b[0m             raise RuntimeError(\n",
            "\u001b[0;32m/usr/lib/python3.10/importlib/__init__.py\u001b[0m in \u001b[0;36mimport_module\u001b[0;34m(name, package)\u001b[0m\n\u001b[1;32m    124\u001b[0m                 \u001b[0;32mbreak\u001b[0m\u001b[0;34m\u001b[0m\u001b[0;34m\u001b[0m\u001b[0m\n\u001b[1;32m    125\u001b[0m             \u001b[0mlevel\u001b[0m \u001b[0;34m+=\u001b[0m \u001b[0;36m1\u001b[0m\u001b[0;34m\u001b[0m\u001b[0;34m\u001b[0m\u001b[0m\n\u001b[0;32m--> 126\u001b[0;31m     \u001b[0;32mreturn\u001b[0m \u001b[0m_bootstrap\u001b[0m\u001b[0;34m.\u001b[0m\u001b[0m_gcd_import\u001b[0m\u001b[0;34m(\u001b[0m\u001b[0mname\u001b[0m\u001b[0;34m[\u001b[0m\u001b[0mlevel\u001b[0m\u001b[0;34m:\u001b[0m\u001b[0;34m]\u001b[0m\u001b[0;34m,\u001b[0m \u001b[0mpackage\u001b[0m\u001b[0;34m,\u001b[0m \u001b[0mlevel\u001b[0m\u001b[0;34m)\u001b[0m\u001b[0;34m\u001b[0m\u001b[0;34m\u001b[0m\u001b[0m\n\u001b[0m\u001b[1;32m    127\u001b[0m \u001b[0;34m\u001b[0m\u001b[0m\n\u001b[1;32m    128\u001b[0m \u001b[0;34m\u001b[0m\u001b[0m\n",
            "\u001b[0;32m/usr/local/lib/python3.10/dist-packages/transformers/models/bert/modeling_bert.py\u001b[0m in \u001b[0;36m<module>\u001b[0;34m\u001b[0m\n\u001b[1;32m     45\u001b[0m     \u001b[0mTokenClassifierOutput\u001b[0m\u001b[0;34m,\u001b[0m\u001b[0;34m\u001b[0m\u001b[0;34m\u001b[0m\u001b[0m\n\u001b[1;32m     46\u001b[0m )\n\u001b[0;32m---> 47\u001b[0;31m \u001b[0;32mfrom\u001b[0m \u001b[0;34m...\u001b[0m\u001b[0mmodeling_utils\u001b[0m \u001b[0;32mimport\u001b[0m \u001b[0mPreTrainedModel\u001b[0m\u001b[0;34m\u001b[0m\u001b[0;34m\u001b[0m\u001b[0m\n\u001b[0m\u001b[1;32m     48\u001b[0m \u001b[0;32mfrom\u001b[0m \u001b[0;34m...\u001b[0m\u001b[0mpytorch_utils\u001b[0m \u001b[0;32mimport\u001b[0m \u001b[0mapply_chunking_to_forward\u001b[0m\u001b[0;34m,\u001b[0m \u001b[0mfind_pruneable_heads_and_indices\u001b[0m\u001b[0;34m,\u001b[0m \u001b[0mprune_linear_layer\u001b[0m\u001b[0;34m\u001b[0m\u001b[0;34m\u001b[0m\u001b[0m\n\u001b[1;32m     49\u001b[0m from ...utils import (\n",
            "\u001b[0;32m/usr/local/lib/python3.10/dist-packages/transformers/modeling_utils.py\u001b[0m in \u001b[0;36m<module>\u001b[0;34m\u001b[0m\n\u001b[1;32m     46\u001b[0m \u001b[0;32mfrom\u001b[0m \u001b[0;34m.\u001b[0m\u001b[0mgeneration\u001b[0m \u001b[0;32mimport\u001b[0m \u001b[0mGenerationConfig\u001b[0m\u001b[0;34m,\u001b[0m \u001b[0mGenerationMixin\u001b[0m\u001b[0;34m\u001b[0m\u001b[0;34m\u001b[0m\u001b[0m\n\u001b[1;32m     47\u001b[0m \u001b[0;32mfrom\u001b[0m \u001b[0;34m.\u001b[0m\u001b[0mintegrations\u001b[0m \u001b[0;32mimport\u001b[0m \u001b[0mPeftAdapterMixin\u001b[0m\u001b[0;34m,\u001b[0m \u001b[0mdeepspeed_config\u001b[0m\u001b[0;34m,\u001b[0m \u001b[0mis_deepspeed_zero3_enabled\u001b[0m\u001b[0;34m\u001b[0m\u001b[0;34m\u001b[0m\u001b[0m\n\u001b[0;32m---> 48\u001b[0;31m \u001b[0;32mfrom\u001b[0m \u001b[0;34m.\u001b[0m\u001b[0mloss\u001b[0m\u001b[0;34m.\u001b[0m\u001b[0mloss_utils\u001b[0m \u001b[0;32mimport\u001b[0m \u001b[0mLOSS_MAPPING\u001b[0m\u001b[0;34m\u001b[0m\u001b[0;34m\u001b[0m\u001b[0m\n\u001b[0m\u001b[1;32m     49\u001b[0m from .pytorch_utils import (  # noqa: F401\n\u001b[1;32m     50\u001b[0m     \u001b[0mConv1D\u001b[0m\u001b[0;34m,\u001b[0m\u001b[0;34m\u001b[0m\u001b[0;34m\u001b[0m\u001b[0m\n",
            "\u001b[0;32m/usr/local/lib/python3.10/dist-packages/transformers/loss/loss_utils.py\u001b[0m in \u001b[0;36m<module>\u001b[0;34m\u001b[0m\n\u001b[1;32m     17\u001b[0m \u001b[0;32mfrom\u001b[0m \u001b[0mtorch\u001b[0m\u001b[0;34m.\u001b[0m\u001b[0mnn\u001b[0m \u001b[0;32mimport\u001b[0m \u001b[0mBCEWithLogitsLoss\u001b[0m\u001b[0;34m,\u001b[0m \u001b[0mMSELoss\u001b[0m\u001b[0;34m\u001b[0m\u001b[0;34m\u001b[0m\u001b[0m\n\u001b[1;32m     18\u001b[0m \u001b[0;34m\u001b[0m\u001b[0m\n\u001b[0;32m---> 19\u001b[0;31m \u001b[0;32mfrom\u001b[0m \u001b[0;34m.\u001b[0m\u001b[0mloss_deformable_detr\u001b[0m \u001b[0;32mimport\u001b[0m \u001b[0mDeformableDetrForObjectDetectionLoss\u001b[0m\u001b[0;34m,\u001b[0m \u001b[0mDeformableDetrForSegmentationLoss\u001b[0m\u001b[0;34m\u001b[0m\u001b[0;34m\u001b[0m\u001b[0m\n\u001b[0m\u001b[1;32m     20\u001b[0m \u001b[0;32mfrom\u001b[0m \u001b[0;34m.\u001b[0m\u001b[0mloss_for_object_detection\u001b[0m \u001b[0;32mimport\u001b[0m \u001b[0mForObjectDetectionLoss\u001b[0m\u001b[0;34m,\u001b[0m \u001b[0mForSegmentationLoss\u001b[0m\u001b[0;34m\u001b[0m\u001b[0;34m\u001b[0m\u001b[0m\n\u001b[1;32m     21\u001b[0m \u001b[0;32mfrom\u001b[0m \u001b[0;34m.\u001b[0m\u001b[0mloss_rt_detr\u001b[0m \u001b[0;32mimport\u001b[0m \u001b[0mRTDetrForObjectDetectionLoss\u001b[0m\u001b[0;34m\u001b[0m\u001b[0;34m\u001b[0m\u001b[0m\n",
            "\u001b[0;32m/usr/local/lib/python3.10/dist-packages/transformers/loss/loss_deformable_detr.py\u001b[0m in \u001b[0;36m<module>\u001b[0;34m\u001b[0m\n\u001b[1;32m      2\u001b[0m \u001b[0;32mimport\u001b[0m \u001b[0mtorch\u001b[0m\u001b[0;34m.\u001b[0m\u001b[0mnn\u001b[0m \u001b[0;32mas\u001b[0m \u001b[0mnn\u001b[0m\u001b[0;34m\u001b[0m\u001b[0;34m\u001b[0m\u001b[0m\n\u001b[1;32m      3\u001b[0m \u001b[0;34m\u001b[0m\u001b[0m\n\u001b[0;32m----> 4\u001b[0;31m \u001b[0;32mfrom\u001b[0m \u001b[0;34m.\u001b[0m\u001b[0;34m.\u001b[0m\u001b[0mimage_transforms\u001b[0m \u001b[0;32mimport\u001b[0m \u001b[0mcenter_to_corners_format\u001b[0m\u001b[0;34m\u001b[0m\u001b[0;34m\u001b[0m\u001b[0m\n\u001b[0m\u001b[1;32m      5\u001b[0m \u001b[0;32mfrom\u001b[0m \u001b[0;34m.\u001b[0m\u001b[0;34m.\u001b[0m\u001b[0mutils\u001b[0m \u001b[0;32mimport\u001b[0m \u001b[0mis_scipy_available\u001b[0m\u001b[0;34m\u001b[0m\u001b[0;34m\u001b[0m\u001b[0m\n\u001b[1;32m      6\u001b[0m from .loss_for_object_detection import (\n",
            "\u001b[0;32m/usr/local/lib/python3.10/dist-packages/transformers/image_transforms.py\u001b[0m in \u001b[0;36m<module>\u001b[0;34m\u001b[0m\n\u001b[1;32m     20\u001b[0m \u001b[0;32mimport\u001b[0m \u001b[0mnumpy\u001b[0m \u001b[0;32mas\u001b[0m \u001b[0mnp\u001b[0m\u001b[0;34m\u001b[0m\u001b[0;34m\u001b[0m\u001b[0m\n\u001b[1;32m     21\u001b[0m \u001b[0;34m\u001b[0m\u001b[0m\n\u001b[0;32m---> 22\u001b[0;31m from .image_utils import (\n\u001b[0m\u001b[1;32m     23\u001b[0m     \u001b[0mChannelDimension\u001b[0m\u001b[0;34m,\u001b[0m\u001b[0;34m\u001b[0m\u001b[0;34m\u001b[0m\u001b[0m\n\u001b[1;32m     24\u001b[0m     \u001b[0mImageInput\u001b[0m\u001b[0;34m,\u001b[0m\u001b[0;34m\u001b[0m\u001b[0;34m\u001b[0m\u001b[0m\n",
            "\u001b[0;32m/usr/local/lib/python3.10/dist-packages/transformers/image_utils.py\u001b[0m in \u001b[0;36m<module>\u001b[0;34m\u001b[0m\n\u001b[1;32m     56\u001b[0m \u001b[0;34m\u001b[0m\u001b[0m\n\u001b[1;32m     57\u001b[0m     \u001b[0;32mif\u001b[0m \u001b[0mis_torchvision_available\u001b[0m\u001b[0;34m(\u001b[0m\u001b[0;34m)\u001b[0m\u001b[0;34m:\u001b[0m\u001b[0;34m\u001b[0m\u001b[0;34m\u001b[0m\u001b[0m\n\u001b[0;32m---> 58\u001b[0;31m         \u001b[0;32mfrom\u001b[0m \u001b[0mtorchvision\u001b[0m\u001b[0;34m.\u001b[0m\u001b[0mtransforms\u001b[0m \u001b[0;32mimport\u001b[0m \u001b[0mInterpolationMode\u001b[0m\u001b[0;34m\u001b[0m\u001b[0;34m\u001b[0m\u001b[0m\n\u001b[0m\u001b[1;32m     59\u001b[0m \u001b[0;34m\u001b[0m\u001b[0m\n\u001b[1;32m     60\u001b[0m         pil_torch_interpolation_mapping = {\n",
            "\u001b[0;32m/usr/local/lib/python3.10/dist-packages/torchvision/__init__.py\u001b[0m in \u001b[0;36m<module>\u001b[0;34m\u001b[0m\n\u001b[1;32m      8\u001b[0m \u001b[0;31m# .extensions) before entering _meta_registrations.\u001b[0m\u001b[0;34m\u001b[0m\u001b[0;34m\u001b[0m\u001b[0m\n\u001b[1;32m      9\u001b[0m \u001b[0;32mfrom\u001b[0m \u001b[0;34m.\u001b[0m\u001b[0mextension\u001b[0m \u001b[0;32mimport\u001b[0m \u001b[0m_HAS_OPS\u001b[0m  \u001b[0;31m# usort:skip\u001b[0m\u001b[0;34m\u001b[0m\u001b[0;34m\u001b[0m\u001b[0m\n\u001b[0;32m---> 10\u001b[0;31m \u001b[0;32mfrom\u001b[0m \u001b[0mtorchvision\u001b[0m \u001b[0;32mimport\u001b[0m \u001b[0m_meta_registrations\u001b[0m\u001b[0;34m,\u001b[0m \u001b[0mdatasets\u001b[0m\u001b[0;34m,\u001b[0m \u001b[0mio\u001b[0m\u001b[0;34m,\u001b[0m \u001b[0mmodels\u001b[0m\u001b[0;34m,\u001b[0m \u001b[0mops\u001b[0m\u001b[0;34m,\u001b[0m \u001b[0mtransforms\u001b[0m\u001b[0;34m,\u001b[0m \u001b[0mutils\u001b[0m  \u001b[0;31m# usort:skip\u001b[0m\u001b[0;34m\u001b[0m\u001b[0;34m\u001b[0m\u001b[0m\n\u001b[0m\u001b[1;32m     11\u001b[0m \u001b[0;34m\u001b[0m\u001b[0m\n\u001b[1;32m     12\u001b[0m \u001b[0;32mtry\u001b[0m\u001b[0;34m:\u001b[0m\u001b[0;34m\u001b[0m\u001b[0;34m\u001b[0m\u001b[0m\n",
            "\u001b[0;32m/usr/local/lib/python3.10/dist-packages/torchvision/datasets/__init__.py\u001b[0m in \u001b[0;36m<module>\u001b[0;34m\u001b[0m\n\u001b[0;32m----> 1\u001b[0;31m \u001b[0;32mfrom\u001b[0m \u001b[0;34m.\u001b[0m\u001b[0m_optical_flow\u001b[0m \u001b[0;32mimport\u001b[0m \u001b[0mFlyingChairs\u001b[0m\u001b[0;34m,\u001b[0m \u001b[0mFlyingThings3D\u001b[0m\u001b[0;34m,\u001b[0m \u001b[0mHD1K\u001b[0m\u001b[0;34m,\u001b[0m \u001b[0mKittiFlow\u001b[0m\u001b[0;34m,\u001b[0m \u001b[0mSintel\u001b[0m\u001b[0;34m\u001b[0m\u001b[0;34m\u001b[0m\u001b[0m\n\u001b[0m\u001b[1;32m      2\u001b[0m from ._stereo_matching import (\n\u001b[1;32m      3\u001b[0m     \u001b[0mCarlaStereo\u001b[0m\u001b[0;34m,\u001b[0m\u001b[0;34m\u001b[0m\u001b[0;34m\u001b[0m\u001b[0m\n\u001b[1;32m      4\u001b[0m     \u001b[0mCREStereo\u001b[0m\u001b[0;34m,\u001b[0m\u001b[0;34m\u001b[0m\u001b[0;34m\u001b[0m\u001b[0m\n\u001b[1;32m      5\u001b[0m     \u001b[0mETH3DStereo\u001b[0m\u001b[0;34m,\u001b[0m\u001b[0;34m\u001b[0m\u001b[0;34m\u001b[0m\u001b[0m\n",
            "\u001b[0;32m/usr/local/lib/python3.10/dist-packages/torchvision/datasets/_optical_flow.py\u001b[0m in \u001b[0;36m<module>\u001b[0;34m\u001b[0m\n\u001b[1;32m     10\u001b[0m \u001b[0;32mfrom\u001b[0m \u001b[0mPIL\u001b[0m \u001b[0;32mimport\u001b[0m \u001b[0mImage\u001b[0m\u001b[0;34m\u001b[0m\u001b[0;34m\u001b[0m\u001b[0m\n\u001b[1;32m     11\u001b[0m \u001b[0;34m\u001b[0m\u001b[0m\n\u001b[0;32m---> 12\u001b[0;31m \u001b[0;32mfrom\u001b[0m \u001b[0;34m.\u001b[0m\u001b[0;34m.\u001b[0m\u001b[0mio\u001b[0m\u001b[0;34m.\u001b[0m\u001b[0mimage\u001b[0m \u001b[0;32mimport\u001b[0m \u001b[0mdecode_png\u001b[0m\u001b[0;34m,\u001b[0m \u001b[0mread_file\u001b[0m\u001b[0;34m\u001b[0m\u001b[0;34m\u001b[0m\u001b[0m\n\u001b[0m\u001b[1;32m     13\u001b[0m \u001b[0;32mfrom\u001b[0m \u001b[0;34m.\u001b[0m\u001b[0mutils\u001b[0m \u001b[0;32mimport\u001b[0m \u001b[0m_read_pfm\u001b[0m\u001b[0;34m,\u001b[0m \u001b[0mverify_str_arg\u001b[0m\u001b[0;34m\u001b[0m\u001b[0;34m\u001b[0m\u001b[0m\n\u001b[1;32m     14\u001b[0m \u001b[0;32mfrom\u001b[0m \u001b[0;34m.\u001b[0m\u001b[0mvision\u001b[0m \u001b[0;32mimport\u001b[0m \u001b[0mVisionDataset\u001b[0m\u001b[0;34m\u001b[0m\u001b[0;34m\u001b[0m\u001b[0m\n",
            "\u001b[0;32m/usr/local/lib/python3.10/dist-packages/torchvision/io/__init__.py\u001b[0m in \u001b[0;36m<module>\u001b[0;34m\u001b[0m\n\u001b[1;32m      3\u001b[0m \u001b[0;32mimport\u001b[0m \u001b[0mtorch\u001b[0m\u001b[0;34m\u001b[0m\u001b[0;34m\u001b[0m\u001b[0m\n\u001b[1;32m      4\u001b[0m \u001b[0;34m\u001b[0m\u001b[0m\n\u001b[0;32m----> 5\u001b[0;31m \u001b[0;32mfrom\u001b[0m \u001b[0;34m.\u001b[0m\u001b[0;34m.\u001b[0m\u001b[0mutils\u001b[0m \u001b[0;32mimport\u001b[0m \u001b[0m_log_api_usage_once\u001b[0m\u001b[0;34m\u001b[0m\u001b[0;34m\u001b[0m\u001b[0m\n\u001b[0m\u001b[1;32m      6\u001b[0m \u001b[0;34m\u001b[0m\u001b[0m\n\u001b[1;32m      7\u001b[0m \u001b[0;32mtry\u001b[0m\u001b[0;34m:\u001b[0m\u001b[0;34m\u001b[0m\u001b[0;34m\u001b[0m\u001b[0m\n",
            "\u001b[0;32m/usr/local/lib/python3.10/dist-packages/torchvision/utils.py\u001b[0m in \u001b[0;36m<module>\u001b[0;34m\u001b[0m\n\u001b[1;32m      9\u001b[0m \u001b[0;32mimport\u001b[0m \u001b[0mnumpy\u001b[0m \u001b[0;32mas\u001b[0m \u001b[0mnp\u001b[0m\u001b[0;34m\u001b[0m\u001b[0;34m\u001b[0m\u001b[0m\n\u001b[1;32m     10\u001b[0m \u001b[0;32mimport\u001b[0m \u001b[0mtorch\u001b[0m\u001b[0;34m\u001b[0m\u001b[0;34m\u001b[0m\u001b[0m\n\u001b[0;32m---> 11\u001b[0;31m \u001b[0;32mfrom\u001b[0m \u001b[0mPIL\u001b[0m \u001b[0;32mimport\u001b[0m \u001b[0mImage\u001b[0m\u001b[0;34m,\u001b[0m \u001b[0mImageColor\u001b[0m\u001b[0;34m,\u001b[0m \u001b[0mImageDraw\u001b[0m\u001b[0;34m,\u001b[0m \u001b[0mImageFont\u001b[0m\u001b[0;34m\u001b[0m\u001b[0;34m\u001b[0m\u001b[0m\n\u001b[0m\u001b[1;32m     12\u001b[0m \u001b[0;34m\u001b[0m\u001b[0m\n\u001b[1;32m     13\u001b[0m \u001b[0;34m\u001b[0m\u001b[0m\n",
            "\u001b[0;32m/usr/lib/python3.10/importlib/_bootstrap.py\u001b[0m in \u001b[0;36m_find_and_load\u001b[0;34m(name, import_)\u001b[0m\n",
            "\u001b[0;32m/usr/lib/python3.10/importlib/_bootstrap.py\u001b[0m in \u001b[0;36m_find_and_load_unlocked\u001b[0;34m(name, import_)\u001b[0m\n",
            "\u001b[0;32m/usr/lib/python3.10/importlib/_bootstrap.py\u001b[0m in \u001b[0;36m_load_unlocked\u001b[0;34m(spec)\u001b[0m\n",
            "\u001b[0;32m/usr/lib/python3.10/importlib/_bootstrap_external.py\u001b[0m in \u001b[0;36mexec_module\u001b[0;34m(self, module)\u001b[0m\n",
            "\u001b[0;32m/usr/lib/python3.10/importlib/_bootstrap_external.py\u001b[0m in \u001b[0;36mget_code\u001b[0;34m(self, fullname)\u001b[0m\n",
            "\u001b[0;32m/usr/lib/python3.10/importlib/_bootstrap_external.py\u001b[0m in \u001b[0;36m_cache_bytecode\u001b[0;34m(self, source_path, bytecode_path, data)\u001b[0m\n",
            "\u001b[0;32m/usr/lib/python3.10/importlib/_bootstrap_external.py\u001b[0m in \u001b[0;36m_calc_mode\u001b[0;34m(path)\u001b[0m\n",
            "\u001b[0;32m/usr/lib/python3.10/importlib/_bootstrap_external.py\u001b[0m in \u001b[0;36m_path_stat\u001b[0;34m(path)\u001b[0m\n",
            "\u001b[0;31mKeyboardInterrupt\u001b[0m: "
          ]
        }
      ]
    },
    {
      "cell_type": "code",
      "source": [
        "# GPU 설정\n",
        "device = torch.device('cuda' if torch.cuda.is_available() else 'cpu')\n",
        "print(f\"Using device: {device}\")"
      ],
      "metadata": {
        "id": "ShR6kJa1mCLp"
      },
      "execution_count": null,
      "outputs": []
    },
    {
      "cell_type": "code",
      "source": [
        "# 구글 드라이브에 있는 pre bert final_data 로드\n",
        "# Google Drive 마운트 (데이터 파일 접근을 위해)\n",
        "from google.colab import drive\n",
        "drive.mount('/content/drive', force_remount=True)\n",
        "\n",
        "path = '/content/drive/MyDrive/Colab Notebooks/LEXILE/data/pre bert final_data.pkl'\n",
        "print(f\"Loading data from: {path}\")\n",
        "with open(path, 'rb') as f:\n",
        "    final_data = pickle.load(f)\n",
        "    print(final_data.head())\n"
      ],
      "metadata": {
        "id": "uPVnh1CeaEOO"
      },
      "execution_count": null,
      "outputs": []
    },
    {
      "cell_type": "markdown",
      "source": [
        "final_data 추가 검증"
      ],
      "metadata": {
        "id": "LpqWCIHuk81R"
      }
    },
    {
      "cell_type": "code",
      "source": [
        "# 토크나이저 불러오기. 이미 토큰화된 데이터이지만 추가 검증을 위해 사용할 것\n",
        "tokenizer = BertTokenizer.from_pretrained('bert-base-uncased')\n",
        "random_number = random.randint(0, len(final_data))\n",
        "\n",
        "\n",
        "# 데이터 상태에 대한 추가 검증\n",
        "print(f'final_data의 head:\\n {final_data.head()}')\n",
        "print(f'\\n\\n final_data의 구조:{final_data.shape}')\n",
        "\n",
        "\n",
        "sample_input_ids = final_data['input_ids'].iloc[random_number]\n",
        "decoded_text = tokenizer.decode(sample_input_ids)\n",
        "print(f'\\n\\n랜덤하게 선택된 글 디코딩 {decoded_text}')\n",
        "\n",
        "sample_attention_mask = final_data['attention_masks'].iloc[random_number]\n",
        "if len(sample_attention_mask) == len(sample_input_ids):\n",
        "    print(\"\\n\\nAttention mask와 input_ids의 길이가 동일합니다. 따라서 데이터에 문제가 없습니다.\")\n",
        "else:\n",
        "    print(\"\\n\\nAttention mask와 input_ids의 길이가 다릅니다. 따라서 데이터에 문제가 있습니다.\")\n",
        "\n",
        "sample_token_type_ids = final_data['token_type_ids'].iloc[random_number]\n",
        "if len(sample_token_type_ids) == len(sample_input_ids):\n",
        "    print(\"\\n\\ntoken_type_ids와 input_ids의 길이가 동일합니다. 따라서 데이터에 문제가 없습니다.\")\n",
        "else:\n",
        "    print(\"\\n\\ntoken_type_ids와 input_ids의 길이가 다릅니다. 따라서 데이터에 문제가 있습니다.\")\n",
        "\n",
        "\n"
      ],
      "metadata": {
        "id": "dxTu6VRAiDHR"
      },
      "execution_count": null,
      "outputs": []
    },
    {
      "cell_type": "code",
      "source": [
        "# 혹시 모르니 sample_ids를 추가\n",
        "sample_ids = list(range(len(final_data)))\n",
        "final_data['sample_ids'] = sample_ids\n",
        "print(final_data.head())"
      ],
      "metadata": {
        "id": "SdWRW0M_p-hQ"
      },
      "execution_count": null,
      "outputs": []
    },
    {
      "cell_type": "markdown",
      "source": [
        "마음의 안정을 위한 공백"
      ],
      "metadata": {
        "id": "cjYMPOSHkPIL"
      }
    },
    {
      "cell_type": "code",
      "source": [
        "# 모델 불러오기.\n",
        "model = BertModel.from_pretrained('bert-base-uncased', output_hidden_states=True)\n",
        "\n",
        "# 모델을 평가 모드로 전환 (반대로 학습 가능한 유동적인 상태로 만들면 안 된다는 것으로 생각하기)\n",
        "model.eval()\n",
        "\n",
        "# 모델 사양 확인\n",
        "# print(model)"
      ],
      "metadata": {
        "id": "fq9zKFnbgxt2"
      },
      "execution_count": null,
      "outputs": []
    },
    {
      "cell_type": "code",
      "source": [
        "# **2. 데이터셋 클래스 정의**\n",
        "class FinalDataDataset(Dataset):\n",
        "    def __init__(self, dataframe):\n",
        "        self.data = dataframe\n",
        "\n",
        "    def __len__(self):\n",
        "        return len(self.data)\n",
        "\n",
        "    def __getitem__(self, idx):\n",
        "        row = self.data.iloc[idx]\n",
        "        return {\n",
        "            \"input_ids\": torch.tensor(row[\"input_ids\"], dtype=torch.long),\n",
        "            \"attention_mask\": torch.tensor(row[\"attention_masks\"], dtype=torch.long),\n",
        "            \"token_type_ids\": torch.tensor(row[\"token_type_ids\"], dtype=torch.long),\n",
        "            \"label\": torch.tensor(row[\"lexile\"], dtype=torch.long)\n",
        "        }\n"
      ],
      "metadata": {
        "id": "ksMwU-dLipPP"
      },
      "execution_count": null,
      "outputs": []
    },
    {
      "cell_type": "code",
      "source": [
        "# **3. 데이터로더 생성**\n",
        "BATCH_SIZE = 16\n",
        "dataset = FinalDataDataset(final_data)\n",
        "dataloader = DataLoader(dataset, batch_size=BATCH_SIZE, shuffle=False)\n",
        "\n",
        "# **4. 모델 로드**\n",
        "model = BertModel.from_pretrained('bert-base-uncased')\n",
        "model.eval()  # 평가 모드로 설정\n",
        "\n",
        "device = torch.device(\"cuda\")  # GPU 사용\n",
        "model.to(device)\n",
        "\n",
        "# **5. 결과 데이터프레임 저장**\n",
        "results = []\n",
        "for batch in dataloader:\n",
        "    input_ids = batch[\"input_ids\"].to(device)\n",
        "    attention_mask = batch[\"attention_mask\"].to(device)\n",
        "    token_type_ids = batch[\"token_type_ids\"].to(device)\n",
        "\n",
        "    with torch.no_grad():\n",
        "        outputs = model(input_ids=input_ids, attention_mask=attention_mask, token_type_ids=token_type_ids)\n",
        "\n",
        "    # Hidden states (마지막 레이어의 출력)\n",
        "    last_hidden_state = outputs.last_hidden_state\n",
        "\n",
        "    # [CLS] 토큰에 가중치를 두어 가중 평균 계산\n",
        "    cls_token = last_hidden_state[:, 0, :]  # [CLS] 토큰의 임베딩\n",
        "    all_tokens_mean = last_hidden_state.mean(dim=1)  # 전체 토큰의 평균\n",
        "\n",
        "    # 가중 평균 계산 (가중치: 0.7 for CLS, 0.3 for mean)\n",
        "    sentence_embeddings = 0.7 * cls_token + 0.3 * all_tokens_mean\n",
        "\n",
        "    for i, embedding in enumerate(sentence_embeddings):\n",
        "        results.append({\n",
        "            \"input_ids\": batch[\"input_ids\"][i].tolist(),\n",
        "            \"embedding\": embedding.cpu().numpy().tolist(),\n",
        "            \"label\": batch[\"label\"][i].item()\n",
        "        })\n",
        "\n",
        "result_df = pd.DataFrame(results)\n",
        "\n"
      ],
      "metadata": {
        "id": "eFncrbb2WDlE"
      },
      "execution_count": null,
      "outputs": []
    },
    {
      "cell_type": "code",
      "source": [
        "print(result_df.head())\n",
        "print(result_df.shape)"
      ],
      "metadata": {
        "id": "GHlXvLt_se_5"
      },
      "execution_count": null,
      "outputs": []
    },
    {
      "cell_type": "code",
      "source": [
        "# **5. 결과 DataFrame 저장**\n",
        "# 결과 DataFrame 생성\n",
        "#result_df = pd.DataFrame(results)\n",
        "\n",
        "# 결과를 pickle 형식으로 저장\n",
        "# result_df.to_pickle('/content/bert_embeddings.pkl')\n",
        "# print(\"임베딩 벡터가 성공적으로 저장되었습니다!\")\n",
        "\n",
        "\n",
        "# 로컬 파일로 저장\n",
        "\n",
        "with open('bert_embeddings.pkl', 'wb') as f3:\n",
        "    pickle.dump(result_df, f3)\n",
        "\n",
        "\n",
        "from google.colab import files\n",
        "files.download('/content/bert_embeddings.pkl')\n",
        "print(\"임베딩 벡터가 성공적으로 저장되었습니다!\")\n"
      ],
      "metadata": {
        "id": "UxNdfQ-8vgkO"
      },
      "execution_count": null,
      "outputs": []
    },
    {
      "cell_type": "markdown",
      "source": [
        "## 5. 데이터 전처리 4 - train_test_split, 데이터 텐서로 변환\n",
        "+6. 모델 구축\n",
        "+7. 모델 훈련 및 최선의 모델 저장\n",
        "+8. 모델 평가\n",
        "\n"
      ],
      "metadata": {
        "id": "Gc1AGh9Z1lwa"
      }
    },
    {
      "cell_type": "markdown",
      "source": [
        "\n",
        "7. 모델 훈련 및 최선의 모델 저장\n",
        "8. 모델 평가\n",
        "\n",
        "사용한 방법론들\n",
        "\n",
        "1. 데이터 정규화 - BERT에서 출력된 결과물을 FC layer에 입력하기 전에 먼저 정규화를 시킴\n",
        "                정규화는 (편차/표준편차)로 계산\n",
        "                표준편차가 0이 되거나, 너무 심하게 compression되는 것을 막기 위해 분모에 미세한 수 (1e-8) 더함\n",
        "\n",
        "2. train_test_split\n",
        "\n",
        "3. FC layer에 입력하기 위해 데이터 탠서화\n",
        "\n",
        "4. TensorDataset으로 데이터 묶기 + DataLoader(batch_size = 16)로 TensorDataset을 불러오기\n",
        "\n",
        "5. 모델 설계\n",
        "    입력 레이어 - 768차원\n",
        "\n",
        "    첫 번째 FC Layer - 768차원 to 512차원\n",
        "    활성화 함수 1 (Relu)\n",
        "    드롭아웃 1 Dropout(p=0.1)\n",
        "\n",
        "    두 번째 FC Layer - 512차원 to 256차원\n",
        "    활성화 함수 2 (Relu)\n",
        "    드롭아웃 2 Dropout(p=0.1)\n",
        "\n",
        "    세 번째 FC Layer - 256차원 to 128차원\n",
        "    활성화 함수 3 (Relu)\n",
        "    드롭아웃 3 Dropout(p=0.1)\n",
        "\n",
        "    네 번째 FC Layer - 128차원 to 6차원 (실제로 분류할 범주의 개수)\n",
        "    LayerNorm 추가\n",
        "        네 번째 FC Layer의 결과물인 Logits 값의 최댓값과 최솟값의 차이가 20을 넘어가면\n",
        "        softmax 함수 통과할 때 비정상적인 값 출력\n",
        "        따라서 비정상적으로 큰 loss 값을 가지게 됨\n",
        "        최댓값과 최솟값의 차이를 줄이기 위해 마지막에 LayerNorm 추가하는 것\n",
        "\n",
        "    맨 끝에 softmax를 추가해야 하는 것 아닌가요?\n",
        "        crossEntropy loss는 이렇게만 놔둬도 내재된 softmax 활용하여 알아서 loss 값 계산\n",
        "        나중에 실제로 사용할 때에는 softmax를 뒤에 덧붙여야 함\n",
        "\n",
        "6. 모델 훈련\n",
        "    learning rate = 0.0001\n",
        "    epochs = 150\n",
        "    early stopping 적용 (patience = 10)\n",
        "    loss function = crossEntropy\n",
        "    sceduler 활용하여 learning rate를 loss에 따라 자동적으로 적절히 적용\n",
        "    Xavier initialization 적용하여 initialization도 최대한 잘 되게 적용\n",
        "    중요 !!!! loss 계산이 평균으로 되어 있는지 확인해야 함 !!!! loss를 단순합으로 계산하고 있었음\n",
        "        그러니 loss가 엄청 크게 나오지...\n",
        "        \n",
        "\n",
        "7. 모델 평가 및 저장\n",
        "    accuracy = correct / total로 계산"
      ],
      "metadata": {
        "id": "kCdIXflW3Rer"
      }
    },
    {
      "cell_type": "code",
      "execution_count": null,
      "metadata": {
        "id": "IM8UQrX-wK3k"
      },
      "outputs": [],
      "source": [
        "import torch\n",
        "import torch.nn as nn\n",
        "import torch.optim as optim\n",
        "from torch.utils.data import DataLoader, TensorDataset\n",
        "from sklearn.model_selection import train_test_split\n",
        "import pickle\n",
        "import os"
      ]
    },
    {
      "cell_type": "code",
      "source": [
        "# Google Drive 마운트 (데이터 파일 접근을 위해)\n",
        "from google.colab import drive\n",
        "drive.mount('/content/drive', force_remount=True)\n",
        "\n",
        "path = '/content/drive/MyDrive/Colab Notebooks/LEXILE/data/bert_embeddings.pkl'\n",
        "print(f\"Loading data from: {path}\")\n",
        "with open(path, 'rb') as f:\n",
        "    postdata = pickle.load(f)\n",
        "    print(postdata.head())"
      ],
      "metadata": {
        "id": "_YVvEkcTwR3Y"
      },
      "execution_count": null,
      "outputs": []
    },
    {
      "cell_type": "code",
      "source": [
        "# GPU 설정\n",
        "device = torch.device('cuda' if torch.cuda.is_available() else 'cpu')\n",
        "print(f\"Using device: {device}\")"
      ],
      "metadata": {
        "id": "bTlQJ5q0wYDL"
      },
      "execution_count": null,
      "outputs": []
    },
    {
      "cell_type": "markdown",
      "source": [
        "혹시 모르니, 결측치 존재 여부 확인"
      ],
      "metadata": {
        "id": "mOR4vRFnwls5"
      }
    },
    {
      "cell_type": "code",
      "source": [
        "# NaN 제거 및 차원 확인\n",
        "postdata = postdata.dropna(subset=['embedding', 'label'])\n",
        "print(f\"Data after NaN removal: {len(postdata)} rows.\")\n",
        "assert all(len(x) == 768 for x in postdata['embedding']), \"임베딩 벡터 차원이 768이 아닙니다.\"\n",
        "assert all(isinstance(x, int) and 0 <= x <= 5 for x in postdata['label']), \"Labels are not valid integer class indices.\""
      ],
      "metadata": {
        "id": "P_se1sGA8EPP"
      },
      "execution_count": null,
      "outputs": []
    },
    {
      "cell_type": "code",
      "source": [
        "print(postdata.head(), postdata.shape)\n",
        "# NaN 값 확인\n",
        "nan_count = postdata['embedding'].isnull().sum()\n",
        "print(f\"NaN 개수: {nan_count}\")\n",
        "\n",
        "nan_count = postdata['label'].isnull().sum()\n",
        "print(f\"NaN 개수: {nan_count}\")\n",
        "\n",
        "# NaN 값이 포함된 행 출력\n",
        "print(postdata[postdata['embedding'].isnull()])\n",
        "print(postdata[postdata['label'].isnull()])\n",
        "\n",
        "# NaN이 포함된 행 제거\n",
        "postdata = postdata.dropna(subset=['embedding'])\n",
        "postdata = postdata.dropna(subset=['label'])\n",
        "\n",
        "# 결과 확인\n",
        "print(f\"NaN 제거 후 데이터 개수: {postdata.shape}\")"
      ],
      "metadata": {
        "id": "IpfJ9n3qwiEP"
      },
      "execution_count": null,
      "outputs": []
    },
    {
      "cell_type": "markdown",
      "source": [
        "Data split"
      ],
      "metadata": {
        "id": "PUMzWdMy3s0G"
      }
    },
    {
      "cell_type": "code",
      "source": [
        "# 데이터를 리스트로 변환\n",
        "input_data = postdata['embedding'].tolist()\n",
        "labels = postdata['label'].tolist()\n",
        "print(\"Data converted to lists.\")\n",
        "\n",
        "# 데이터 정규화 (Scaling)\n",
        "def normalize_embeddings(embeddings):\n",
        "    embeddings = torch.tensor(embeddings, dtype=torch.float32)\n",
        "    return (embeddings - embeddings.mean(dim=0)) / (embeddings.std(dim=0) + 1e-8)\n",
        "\n",
        "input_data = normalize_embeddings(input_data)\n",
        "print(\"Input data normalized.\")\n",
        "\n",
        "# Train-Test Split\n",
        "train_inputs, test_inputs, train_labels, test_labels = train_test_split(\n",
        "    input_data, labels, test_size=0.2, random_state=42\n",
        ")\n",
        "print(\"Train-test split completed.\")\n",
        "\n",
        "# 리스트 내부 요소를 텐서로 변환\n",
        "train_inputs = [torch.tensor(x, dtype=torch.float32) for x in train_inputs]\n",
        "test_inputs = [torch.tensor(x, dtype=torch.float32) for x in test_inputs]\n",
        "\n",
        "# 2D 텐서 생성\n",
        "train_inputs = torch.stack(train_inputs)\n",
        "test_inputs = torch.stack(test_inputs)\n",
        "\n",
        "# 레이블 텐서로 변환\n",
        "train_labels = torch.tensor(train_labels, dtype=torch.long)\n",
        "test_labels = torch.tensor(test_labels, dtype=torch.long)\n",
        "print(\"Data converted to tensors.\")\n",
        "\n",
        "# TensorDataset 및 DataLoader 생성\n",
        "train_dataset = TensorDataset(train_inputs, train_labels)\n",
        "test_dataset = TensorDataset(test_inputs, test_labels)\n",
        "\n",
        "train_loader = DataLoader(train_dataset, batch_size=16, shuffle=True)\n",
        "test_loader = DataLoader(test_dataset, batch_size=16, shuffle=False)\n",
        "print(\"DataLoaders created.\")\n",
        "\n",
        "# 클래스 가중치 계산\n",
        "class_counts = torch.bincount(train_labels)\n",
        "class_weights = 1.0 / class_counts.float()\n",
        "class_weights /= class_weights.sum()\n",
        "print(f\"Class weights: {class_weights}\")"
      ],
      "metadata": {
        "colab": {
          "base_uri": "https://localhost:8080/"
        },
        "id": "6-BICBEK3pGA",
        "outputId": "cb23ceaa-330b-40a6-f7b0-d5a0065d158a"
      },
      "execution_count": null,
      "outputs": [
        {
          "output_type": "stream",
          "name": "stdout",
          "text": [
            "Data converted to lists.\n",
            "Input data normalized.\n",
            "Train-test split completed.\n"
          ]
        },
        {
          "output_type": "stream",
          "name": "stderr",
          "text": [
            "<ipython-input-16-da796f6f6321>:21: UserWarning: To copy construct from a tensor, it is recommended to use sourceTensor.clone().detach() or sourceTensor.clone().detach().requires_grad_(True), rather than torch.tensor(sourceTensor).\n",
            "  train_inputs = [torch.tensor(x, dtype=torch.float32) for x in train_inputs]\n",
            "<ipython-input-16-da796f6f6321>:22: UserWarning: To copy construct from a tensor, it is recommended to use sourceTensor.clone().detach() or sourceTensor.clone().detach().requires_grad_(True), rather than torch.tensor(sourceTensor).\n",
            "  test_inputs = [torch.tensor(x, dtype=torch.float32) for x in test_inputs]\n"
          ]
        },
        {
          "output_type": "stream",
          "name": "stdout",
          "text": [
            "Data converted to tensors.\n",
            "DataLoaders created.\n",
            "Class weights: tensor([0.1561, 0.1754, 0.1623, 0.1665, 0.1565, 0.1830])\n"
          ]
        }
      ]
    },
    {
      "cell_type": "code",
      "source": [
        "# 2. 모델 설계\n",
        "class LexilePredictor(nn.Module):\n",
        "    def __init__(self, input_dim, hidden_dim1, hidden_dim2, hidden_dim3, num_classes):\n",
        "        super(LexilePredictor, self).__init__()\n",
        "        self.fc1 = nn.Linear(input_dim, hidden_dim1)  # 첫 번째 FC Layer\n",
        "        self.relu1 = nn.ReLU()                       # 활성화 함수 1\n",
        "        self.dropout1 = nn.Dropout(p=0.1)            # 드롭아웃 1\n",
        "        self.fc2 = nn.Linear(hidden_dim1, hidden_dim2) # 두 번째 FC Layer\n",
        "        self.relu2 = nn.ReLU()                       # 활성화 함수 2\n",
        "        self.dropout2 = nn.Dropout(p=0.1)            # 드롭아웃 2\n",
        "        self.fc3 = nn.Linear(hidden_dim2, hidden_dim3) # 세 번째 FC Layer\n",
        "        self.relu3 = nn.ReLU()                       # 활성화 함수 3\n",
        "        self.dropout3 = nn.Dropout(p=0.1)            # 드롭아웃 3\n",
        "        self.fc4 = nn.Linear(hidden_dim3, num_classes) # 네 번째 FC Layer\n",
        "        self.layer_norm = nn.LayerNorm(num_classes)   # LayerNorm 추가\n",
        "\n",
        "        # 가중치 초기화\n",
        "        self._initialize_weights()\n",
        "\n",
        "    def forward(self, x):\n",
        "        x = self.fc1(x)\n",
        "        x = self.relu1(x)\n",
        "        x = self.dropout1(x)\n",
        "        x = self.fc2(x)\n",
        "        x = self.relu2(x)\n",
        "        x = self.dropout2(x)\n",
        "        x = self.fc3(x)\n",
        "        x = self.relu3(x)\n",
        "        x = self.dropout3(x)\n",
        "        x = self.fc4(x)\n",
        "        x = self.layer_norm(x)  # Logits 정규화\n",
        "        return x\n",
        "\n",
        "    def _initialize_weights(self):\n",
        "        nn.init.xavier_uniform_(self.fc1.weight)\n",
        "        nn.init.xavier_uniform_(self.fc2.weight)\n",
        "        nn.init.xavier_uniform_(self.fc3.weight)\n",
        "        nn.init.xavier_uniform_(self.fc4.weight)\n",
        "        if self.fc1.bias is not None:\n",
        "            nn.init.zeros_(self.fc1.bias)\n",
        "        if self.fc2.bias is not None:\n",
        "            nn.init.zeros_(self.fc2.bias)\n",
        "        if self.fc3.bias is not None:\n",
        "            nn.init.zeros_(self.fc3.bias)\n",
        "        if self.fc4.bias is not None:\n",
        "            nn.init.zeros_(self.fc4.bias)\n",
        "\n",
        "# 하이퍼파라미터 설정\n",
        "input_dim = 768\n",
        "hidden_dim1 = 512\n",
        "hidden_dim2 = 256\n",
        "hidden_dim3 = 128\n",
        "num_classes = 6\n",
        "learning_rate = 0.0001\n",
        "epochs = 150\n",
        "patience = 10  # Early Stopping patience\n",
        "\n",
        "# 모델 저장 경로 설정\n",
        "model_dir = '/content/drive/MyDrive/Colab Notebooks/LEXILE/models'\n",
        "os.makedirs(model_dir, exist_ok=True)\n",
        "\n",
        "best_model_path = os.path.join(model_dir, 'lexile_fc_model_best.pth')\n",
        "final_model_path = os.path.join(model_dir, 'final_lexile_fc_model.pth')\n",
        "\n",
        "device = torch.device(\"cuda\" if torch.cuda.is_available() else \"cpu\")\n",
        "print(f\"Using device: {device}\")\n",
        "\n",
        "# 모델 초기화\n",
        "model = LexilePredictor(input_dim, hidden_dim1, hidden_dim2, hidden_dim3, num_classes).to(device)\n",
        "print(\"Model initialized with additional FC layer, LayerNorm, and Xavier initialization.\")\n",
        "\n",
        "# 손실 함수 및 옵티마이저\n",
        "criterion = nn.CrossEntropyLoss(weight=class_weights.to(device))\n",
        "optimizer = optim.Adam(model.parameters(), lr=learning_rate)\n",
        "scheduler = torch.optim.lr_scheduler.ReduceLROnPlateau(optimizer, 'min', factor=0.5, patience=5)\n",
        "print(\"Loss function, optimizer, and scheduler set.\")\n",
        "\n",
        "# Early Stopping 초기화\n",
        "best_loss = float('inf')\n",
        "patience_counter = 0"
      ],
      "metadata": {
        "colab": {
          "base_uri": "https://localhost:8080/"
        },
        "id": "LT_htoT34TrH",
        "outputId": "41ba0111-b9eb-47e4-efba-8f406e9aa4c8"
      },
      "execution_count": null,
      "outputs": [
        {
          "output_type": "stream",
          "name": "stdout",
          "text": [
            "Using device: cpu\n",
            "Model initialized with additional FC layer, LayerNorm, and Xavier initialization.\n",
            "Loss function, optimizer, and scheduler set.\n"
          ]
        }
      ]
    },
    {
      "cell_type": "code",
      "source": [
        "# 3. 모델 훈련\n",
        "for epoch in range(epochs):\n",
        "    model.train()\n",
        "    batch_losses = []  # Track batch losses\n",
        "    correct = 0\n",
        "    total = 0\n",
        "\n",
        "    for batch in train_loader:\n",
        "        inputs = batch[0].to(device)\n",
        "        labels = batch[1].to(device)\n",
        "\n",
        "        # 순전파\n",
        "        outputs = model(inputs)\n",
        "        #print(f\"Logits range: min={outputs.min().item()}, max={outputs.max().item()}\")\n",
        "        #logits_diff = outputs.max().item() - outputs.min().item()\n",
        "        #print(f\"Logits difference: {logits_diff}\")\n",
        "        #if logits_diff > 20:\n",
        "        #    print(\"Logits difference exceeds threshold; potential instability.\")\n",
        "        loss = criterion(outputs, labels)\n",
        "\n",
        "        # 역전파 및 가중치 업데이트\n",
        "        optimizer.zero_grad()\n",
        "        loss.backward()\n",
        "        optimizer.step()\n",
        "\n",
        "        # 손실 및 정확도 계산\n",
        "        batch_losses.append(loss.item())\n",
        "        _, predicted = torch.max(outputs, 1)\n",
        "        total += labels.size(0)\n",
        "        correct += (predicted == labels).sum().item()\n",
        "\n",
        "    epoch_loss = sum(batch_losses) / len(batch_losses)  # Average loss for the epoch\n",
        "    accuracy = correct / total\n",
        "    print(f\"Epoch {epoch + 1}/{epochs}, Loss: {epoch_loss:.4f}, Accuracy: {accuracy:.4f}\")\n",
        "\n",
        "    # Scheduler 스텝\n",
        "    scheduler.step(epoch_loss)\n",
        "\n",
        "    # Early Stopping 조건 확인\n",
        "    if epoch_loss < best_loss:\n",
        "        best_loss = epoch_loss\n",
        "        patience_counter = 0\n",
        "        # 모델 저장 (최고 성능 기준)\n",
        "        torch.save(model.state_dict(), best_model_path)\n",
        "        print(\"Best model saved.\")\n",
        "    else:\n",
        "        patience_counter += 1\n",
        "\n",
        "    if patience_counter >= patience:\n",
        "        print(\"Early stopping triggered.\")\n",
        "        break\n"
      ],
      "metadata": {
        "colab": {
          "base_uri": "https://localhost:8080/"
        },
        "id": "FEOM7vG18dyh",
        "outputId": "9983f30a-ceb1-469b-ff0e-86b22f71445c"
      },
      "execution_count": null,
      "outputs": [
        {
          "output_type": "stream",
          "name": "stdout",
          "text": [
            "Epoch 1/150, Loss: 0.1611, Accuracy: 0.9417\n",
            "Best model saved.\n",
            "Epoch 2/150, Loss: 0.1596, Accuracy: 0.9429\n",
            "Best model saved.\n",
            "Epoch 3/150, Loss: 0.1584, Accuracy: 0.9427\n",
            "Best model saved.\n",
            "Epoch 4/150, Loss: 0.1601, Accuracy: 0.9419\n",
            "Epoch 5/150, Loss: 0.1552, Accuracy: 0.9440\n",
            "Best model saved.\n",
            "Epoch 6/150, Loss: 0.1532, Accuracy: 0.9444\n",
            "Best model saved.\n",
            "Epoch 7/150, Loss: 0.1546, Accuracy: 0.9433\n",
            "Epoch 8/150, Loss: 0.1538, Accuracy: 0.9448\n",
            "Epoch 9/150, Loss: 0.1507, Accuracy: 0.9445\n",
            "Best model saved.\n",
            "Epoch 10/150, Loss: 0.1517, Accuracy: 0.9443\n",
            "Epoch 11/150, Loss: 0.1455, Accuracy: 0.9467\n",
            "Best model saved.\n",
            "Epoch 12/150, Loss: 0.1471, Accuracy: 0.9448\n",
            "Epoch 13/150, Loss: 0.1457, Accuracy: 0.9456\n",
            "Epoch 14/150, Loss: 0.1436, Accuracy: 0.9479\n",
            "Best model saved.\n",
            "Epoch 15/150, Loss: 0.1442, Accuracy: 0.9468\n",
            "Epoch 16/150, Loss: 0.1420, Accuracy: 0.9468\n",
            "Best model saved.\n",
            "Epoch 17/150, Loss: 0.1416, Accuracy: 0.9474\n",
            "Best model saved.\n",
            "Epoch 18/150, Loss: 0.1438, Accuracy: 0.9459\n",
            "Epoch 19/150, Loss: 0.1403, Accuracy: 0.9483\n",
            "Best model saved.\n",
            "Epoch 20/150, Loss: 0.1381, Accuracy: 0.9488\n",
            "Best model saved.\n",
            "Epoch 21/150, Loss: 0.1420, Accuracy: 0.9478\n",
            "Epoch 22/150, Loss: 0.1396, Accuracy: 0.9479\n",
            "Epoch 23/150, Loss: 0.1363, Accuracy: 0.9488\n",
            "Best model saved.\n",
            "Epoch 24/150, Loss: 0.1368, Accuracy: 0.9485\n",
            "Epoch 25/150, Loss: 0.1388, Accuracy: 0.9482\n",
            "Epoch 26/150, Loss: 0.1337, Accuracy: 0.9498\n",
            "Best model saved.\n",
            "Epoch 27/150, Loss: 0.1306, Accuracy: 0.9511\n",
            "Best model saved.\n",
            "Epoch 28/150, Loss: 0.1341, Accuracy: 0.9493\n",
            "Epoch 29/150, Loss: 0.1324, Accuracy: 0.9488\n",
            "Epoch 30/150, Loss: 0.1344, Accuracy: 0.9495\n",
            "Epoch 31/150, Loss: 0.1320, Accuracy: 0.9502\n",
            "Epoch 32/150, Loss: 0.1328, Accuracy: 0.9497\n",
            "Epoch 33/150, Loss: 0.1291, Accuracy: 0.9510\n",
            "Best model saved.\n",
            "Epoch 34/150, Loss: 0.1335, Accuracy: 0.9499\n",
            "Epoch 35/150, Loss: 0.1285, Accuracy: 0.9506\n",
            "Best model saved.\n",
            "Epoch 36/150, Loss: 0.1315, Accuracy: 0.9500\n",
            "Epoch 37/150, Loss: 0.1282, Accuracy: 0.9518\n",
            "Best model saved.\n",
            "Epoch 38/150, Loss: 0.1272, Accuracy: 0.9515\n",
            "Best model saved.\n",
            "Epoch 39/150, Loss: 0.1307, Accuracy: 0.9506\n",
            "Epoch 40/150, Loss: 0.1281, Accuracy: 0.9506\n",
            "Epoch 41/150, Loss: 0.1256, Accuracy: 0.9519\n",
            "Best model saved.\n",
            "Epoch 42/150, Loss: 0.1271, Accuracy: 0.9514\n",
            "Epoch 43/150, Loss: 0.1248, Accuracy: 0.9528\n",
            "Best model saved.\n",
            "Epoch 44/150, Loss: 0.1274, Accuracy: 0.9511\n",
            "Epoch 45/150, Loss: 0.1263, Accuracy: 0.9513\n",
            "Epoch 46/150, Loss: 0.1294, Accuracy: 0.9511\n",
            "Epoch 47/150, Loss: 0.1274, Accuracy: 0.9505\n",
            "Epoch 48/150, Loss: 0.1242, Accuracy: 0.9529\n",
            "Best model saved.\n",
            "Epoch 49/150, Loss: 0.1219, Accuracy: 0.9529\n",
            "Best model saved.\n",
            "Epoch 50/150, Loss: 0.1244, Accuracy: 0.9519\n",
            "Epoch 51/150, Loss: 0.1256, Accuracy: 0.9515\n",
            "Epoch 52/150, Loss: 0.1212, Accuracy: 0.9527\n",
            "Best model saved.\n",
            "Epoch 53/150, Loss: 0.1234, Accuracy: 0.9527\n",
            "Epoch 54/150, Loss: 0.1231, Accuracy: 0.9519\n",
            "Epoch 55/150, Loss: 0.1234, Accuracy: 0.9522\n",
            "Epoch 56/150, Loss: 0.1194, Accuracy: 0.9530\n",
            "Best model saved.\n",
            "Epoch 57/150, Loss: 0.1174, Accuracy: 0.9540\n",
            "Best model saved.\n",
            "Epoch 58/150, Loss: 0.1219, Accuracy: 0.9533\n",
            "Epoch 59/150, Loss: 0.1208, Accuracy: 0.9534\n",
            "Epoch 60/150, Loss: 0.1223, Accuracy: 0.9533\n",
            "Epoch 61/150, Loss: 0.1216, Accuracy: 0.9522\n",
            "Epoch 62/150, Loss: 0.1210, Accuracy: 0.9528\n",
            "Epoch 63/150, Loss: 0.1180, Accuracy: 0.9537\n",
            "Epoch 64/150, Loss: 0.1097, Accuracy: 0.9571\n",
            "Best model saved.\n",
            "Epoch 65/150, Loss: 0.1084, Accuracy: 0.9574\n",
            "Best model saved.\n",
            "Epoch 66/150, Loss: 0.1055, Accuracy: 0.9583\n",
            "Best model saved.\n",
            "Epoch 67/150, Loss: 0.1050, Accuracy: 0.9582\n",
            "Best model saved.\n",
            "Epoch 68/150, Loss: 0.1045, Accuracy: 0.9587\n",
            "Best model saved.\n",
            "Epoch 69/150, Loss: 0.1050, Accuracy: 0.9587\n",
            "Epoch 70/150, Loss: 0.1042, Accuracy: 0.9590\n",
            "Best model saved.\n",
            "Epoch 71/150, Loss: 0.1020, Accuracy: 0.9603\n",
            "Best model saved.\n",
            "Epoch 72/150, Loss: 0.1033, Accuracy: 0.9588\n",
            "Epoch 73/150, Loss: 0.1037, Accuracy: 0.9590\n",
            "Epoch 74/150, Loss: 0.1043, Accuracy: 0.9586\n",
            "Epoch 75/150, Loss: 0.1036, Accuracy: 0.9595\n",
            "Epoch 76/150, Loss: 0.1028, Accuracy: 0.9593\n",
            "Epoch 77/150, Loss: 0.1014, Accuracy: 0.9596\n",
            "Best model saved.\n",
            "Epoch 78/150, Loss: 0.1019, Accuracy: 0.9602\n",
            "Epoch 79/150, Loss: 0.1020, Accuracy: 0.9600\n",
            "Epoch 80/150, Loss: 0.1017, Accuracy: 0.9600\n",
            "Epoch 81/150, Loss: 0.1028, Accuracy: 0.9594\n",
            "Epoch 82/150, Loss: 0.1020, Accuracy: 0.9597\n",
            "Epoch 83/150, Loss: 0.1010, Accuracy: 0.9595\n",
            "Best model saved.\n",
            "Epoch 84/150, Loss: 0.1022, Accuracy: 0.9595\n",
            "Epoch 85/150, Loss: 0.1002, Accuracy: 0.9603\n",
            "Best model saved.\n",
            "Epoch 86/150, Loss: 0.1022, Accuracy: 0.9593\n",
            "Epoch 87/150, Loss: 0.1009, Accuracy: 0.9606\n",
            "Epoch 88/150, Loss: 0.0994, Accuracy: 0.9603\n",
            "Best model saved.\n",
            "Epoch 89/150, Loss: 0.0990, Accuracy: 0.9602\n",
            "Best model saved.\n",
            "Epoch 90/150, Loss: 0.1011, Accuracy: 0.9607\n",
            "Epoch 91/150, Loss: 0.1018, Accuracy: 0.9603\n",
            "Epoch 92/150, Loss: 0.1012, Accuracy: 0.9599\n",
            "Epoch 93/150, Loss: 0.1002, Accuracy: 0.9603\n",
            "Epoch 94/150, Loss: 0.0985, Accuracy: 0.9610\n",
            "Best model saved.\n",
            "Epoch 95/150, Loss: 0.0998, Accuracy: 0.9605\n",
            "Epoch 96/150, Loss: 0.0999, Accuracy: 0.9611\n",
            "Epoch 97/150, Loss: 0.1007, Accuracy: 0.9603\n",
            "Epoch 98/150, Loss: 0.1004, Accuracy: 0.9604\n",
            "Epoch 99/150, Loss: 0.0984, Accuracy: 0.9612\n",
            "Best model saved.\n",
            "Epoch 100/150, Loss: 0.0994, Accuracy: 0.9610\n",
            "Epoch 101/150, Loss: 0.1004, Accuracy: 0.9594\n",
            "Epoch 102/150, Loss: 0.0985, Accuracy: 0.9604\n",
            "Epoch 103/150, Loss: 0.1004, Accuracy: 0.9606\n",
            "Epoch 104/150, Loss: 0.0990, Accuracy: 0.9615\n",
            "Epoch 105/150, Loss: 0.1001, Accuracy: 0.9612\n",
            "Epoch 106/150, Loss: 0.0968, Accuracy: 0.9623\n",
            "Best model saved.\n",
            "Epoch 107/150, Loss: 0.0955, Accuracy: 0.9620\n",
            "Best model saved.\n",
            "Epoch 108/150, Loss: 0.0972, Accuracy: 0.9617\n",
            "Epoch 109/150, Loss: 0.0960, Accuracy: 0.9629\n",
            "Epoch 110/150, Loss: 0.0944, Accuracy: 0.9628\n",
            "Best model saved.\n",
            "Epoch 111/150, Loss: 0.0932, Accuracy: 0.9628\n",
            "Best model saved.\n",
            "Epoch 112/150, Loss: 0.0946, Accuracy: 0.9631\n",
            "Epoch 113/150, Loss: 0.0948, Accuracy: 0.9624\n",
            "Epoch 114/150, Loss: 0.0929, Accuracy: 0.9632\n",
            "Best model saved.\n",
            "Epoch 115/150, Loss: 0.0943, Accuracy: 0.9628\n",
            "Epoch 116/150, Loss: 0.0953, Accuracy: 0.9629\n",
            "Epoch 117/150, Loss: 0.0936, Accuracy: 0.9629\n",
            "Epoch 118/150, Loss: 0.0942, Accuracy: 0.9626\n",
            "Epoch 119/150, Loss: 0.0937, Accuracy: 0.9632\n",
            "Epoch 120/150, Loss: 0.0942, Accuracy: 0.9625\n",
            "Epoch 121/150, Loss: 0.0939, Accuracy: 0.9631\n",
            "Epoch 122/150, Loss: 0.0923, Accuracy: 0.9634\n",
            "Best model saved.\n",
            "Epoch 123/150, Loss: 0.0927, Accuracy: 0.9631\n",
            "Epoch 124/150, Loss: 0.0926, Accuracy: 0.9635\n",
            "Epoch 125/150, Loss: 0.0910, Accuracy: 0.9637\n",
            "Best model saved.\n",
            "Epoch 126/150, Loss: 0.0912, Accuracy: 0.9634\n",
            "Epoch 127/150, Loss: 0.0917, Accuracy: 0.9641\n",
            "Epoch 128/150, Loss: 0.0915, Accuracy: 0.9639\n",
            "Epoch 129/150, Loss: 0.0913, Accuracy: 0.9639\n",
            "Epoch 130/150, Loss: 0.0911, Accuracy: 0.9640\n",
            "Epoch 131/150, Loss: 0.0902, Accuracy: 0.9645\n",
            "Best model saved.\n",
            "Epoch 132/150, Loss: 0.0917, Accuracy: 0.9638\n",
            "Epoch 133/150, Loss: 0.0910, Accuracy: 0.9639\n",
            "Epoch 134/150, Loss: 0.0904, Accuracy: 0.9650\n",
            "Epoch 135/150, Loss: 0.0909, Accuracy: 0.9641\n",
            "Epoch 136/150, Loss: 0.0908, Accuracy: 0.9642\n",
            "Epoch 137/150, Loss: 0.0908, Accuracy: 0.9640\n",
            "Epoch 138/150, Loss: 0.0910, Accuracy: 0.9641\n",
            "Epoch 139/150, Loss: 0.0892, Accuracy: 0.9649\n",
            "Best model saved.\n",
            "Epoch 140/150, Loss: 0.0907, Accuracy: 0.9650\n",
            "Epoch 141/150, Loss: 0.0897, Accuracy: 0.9653\n",
            "Epoch 142/150, Loss: 0.0889, Accuracy: 0.9652\n",
            "Best model saved.\n",
            "Epoch 143/150, Loss: 0.0888, Accuracy: 0.9651\n",
            "Best model saved.\n",
            "Epoch 144/150, Loss: 0.0895, Accuracy: 0.9650\n",
            "Epoch 145/150, Loss: 0.0900, Accuracy: 0.9651\n",
            "Epoch 146/150, Loss: 0.0894, Accuracy: 0.9650\n",
            "Epoch 147/150, Loss: 0.0888, Accuracy: 0.9647\n",
            "Epoch 148/150, Loss: 0.0897, Accuracy: 0.9640\n",
            "Epoch 149/150, Loss: 0.0895, Accuracy: 0.9647\n",
            "Epoch 150/150, Loss: 0.0886, Accuracy: 0.9651\n",
            "Best model saved.\n"
          ]
        }
      ]
    },
    {
      "cell_type": "code",
      "source": [
        "# 4. 모델 평가\n",
        "model.eval()\n",
        "correct = 0\n",
        "total = 0\n",
        "val_loss = 0\n",
        "\n",
        "with torch.no_grad():\n",
        "    for batch in test_loader:\n",
        "        inputs = batch[0].to(device)\n",
        "        labels = batch[1].to(device)\n",
        "\n",
        "        outputs = model(inputs)\n",
        "        loss = criterion(outputs, labels)\n",
        "        val_loss += loss.item()\n",
        "        _, predicted = torch.max(outputs, 1)\n",
        "        total += labels.size(0)\n",
        "        correct += (predicted == labels).sum().item()\n",
        "\n",
        "accuracy = correct / total\n",
        "val_loss /= len(test_loader)\n",
        "print(f\"Test Accuracy: {accuracy:.4f}, Validation Loss: {val_loss:.4f}\")\n"
      ],
      "metadata": {
        "colab": {
          "base_uri": "https://localhost:8080/"
        },
        "id": "mTXlVZdh8gHO",
        "outputId": "5c5c7783-f142-49db-ea96-4c9045f9dc2c"
      },
      "execution_count": null,
      "outputs": [
        {
          "output_type": "stream",
          "name": "stdout",
          "text": [
            "Test Accuracy: 0.8263, Validation Loss: 0.9202\n"
          ]
        }
      ]
    }
  ],
  "metadata": {
    "colab": {
      "provenance": [],
      "authorship_tag": "ABX9TyNtW+v+h7nTYjerMytxOmIl",
      "include_colab_link": true
    },
    "kernelspec": {
      "display_name": "Python 3",
      "name": "python3"
    },
    "language_info": {
      "name": "python"
    },
    "widgets": {
      "application/vnd.jupyter.widget-state+json": {
        "9f9eb5f62ea74b4788c1d679ff643fac": {
          "model_module": "@jupyter-widgets/controls",
          "model_name": "HBoxModel",
          "model_module_version": "1.5.0",
          "state": {
            "_dom_classes": [],
            "_model_module": "@jupyter-widgets/controls",
            "_model_module_version": "1.5.0",
            "_model_name": "HBoxModel",
            "_view_count": null,
            "_view_module": "@jupyter-widgets/controls",
            "_view_module_version": "1.5.0",
            "_view_name": "HBoxView",
            "box_style": "",
            "children": [
              "IPY_MODEL_52061678dd8644719f6aa0503ea499a2",
              "IPY_MODEL_1209b6fda0544caca7f1fc1639f84040",
              "IPY_MODEL_25cfe4de1eef4da7a16a2ee95bda75a3"
            ],
            "layout": "IPY_MODEL_8e8447fc431d4af88673ee6f23a81790"
          }
        },
        "52061678dd8644719f6aa0503ea499a2": {
          "model_module": "@jupyter-widgets/controls",
          "model_name": "HTMLModel",
          "model_module_version": "1.5.0",
          "state": {
            "_dom_classes": [],
            "_model_module": "@jupyter-widgets/controls",
            "_model_module_version": "1.5.0",
            "_model_name": "HTMLModel",
            "_view_count": null,
            "_view_module": "@jupyter-widgets/controls",
            "_view_module_version": "1.5.0",
            "_view_name": "HTMLView",
            "description": "",
            "description_tooltip": null,
            "layout": "IPY_MODEL_fd956548f43f41c382867fb7f33b8450",
            "placeholder": "​",
            "style": "IPY_MODEL_8b86e1669df64941983ac9ea9958c05b",
            "value": "tokenizer_config.json: 100%"
          }
        },
        "1209b6fda0544caca7f1fc1639f84040": {
          "model_module": "@jupyter-widgets/controls",
          "model_name": "FloatProgressModel",
          "model_module_version": "1.5.0",
          "state": {
            "_dom_classes": [],
            "_model_module": "@jupyter-widgets/controls",
            "_model_module_version": "1.5.0",
            "_model_name": "FloatProgressModel",
            "_view_count": null,
            "_view_module": "@jupyter-widgets/controls",
            "_view_module_version": "1.5.0",
            "_view_name": "ProgressView",
            "bar_style": "success",
            "description": "",
            "description_tooltip": null,
            "layout": "IPY_MODEL_57180c6f938142ca8d70f2ca9e97fa26",
            "max": 48,
            "min": 0,
            "orientation": "horizontal",
            "style": "IPY_MODEL_797ef00a684f42ee99502426c01c2a5d",
            "value": 48
          }
        },
        "25cfe4de1eef4da7a16a2ee95bda75a3": {
          "model_module": "@jupyter-widgets/controls",
          "model_name": "HTMLModel",
          "model_module_version": "1.5.0",
          "state": {
            "_dom_classes": [],
            "_model_module": "@jupyter-widgets/controls",
            "_model_module_version": "1.5.0",
            "_model_name": "HTMLModel",
            "_view_count": null,
            "_view_module": "@jupyter-widgets/controls",
            "_view_module_version": "1.5.0",
            "_view_name": "HTMLView",
            "description": "",
            "description_tooltip": null,
            "layout": "IPY_MODEL_d4e920eea93f4a8895dd6df5613b7b9f",
            "placeholder": "​",
            "style": "IPY_MODEL_69e2e87d73f745d394e06f299b3175f6",
            "value": " 48.0/48.0 [00:00&lt;00:00, 1.54kB/s]"
          }
        },
        "8e8447fc431d4af88673ee6f23a81790": {
          "model_module": "@jupyter-widgets/base",
          "model_name": "LayoutModel",
          "model_module_version": "1.2.0",
          "state": {
            "_model_module": "@jupyter-widgets/base",
            "_model_module_version": "1.2.0",
            "_model_name": "LayoutModel",
            "_view_count": null,
            "_view_module": "@jupyter-widgets/base",
            "_view_module_version": "1.2.0",
            "_view_name": "LayoutView",
            "align_content": null,
            "align_items": null,
            "align_self": null,
            "border": null,
            "bottom": null,
            "display": null,
            "flex": null,
            "flex_flow": null,
            "grid_area": null,
            "grid_auto_columns": null,
            "grid_auto_flow": null,
            "grid_auto_rows": null,
            "grid_column": null,
            "grid_gap": null,
            "grid_row": null,
            "grid_template_areas": null,
            "grid_template_columns": null,
            "grid_template_rows": null,
            "height": null,
            "justify_content": null,
            "justify_items": null,
            "left": null,
            "margin": null,
            "max_height": null,
            "max_width": null,
            "min_height": null,
            "min_width": null,
            "object_fit": null,
            "object_position": null,
            "order": null,
            "overflow": null,
            "overflow_x": null,
            "overflow_y": null,
            "padding": null,
            "right": null,
            "top": null,
            "visibility": null,
            "width": null
          }
        },
        "fd956548f43f41c382867fb7f33b8450": {
          "model_module": "@jupyter-widgets/base",
          "model_name": "LayoutModel",
          "model_module_version": "1.2.0",
          "state": {
            "_model_module": "@jupyter-widgets/base",
            "_model_module_version": "1.2.0",
            "_model_name": "LayoutModel",
            "_view_count": null,
            "_view_module": "@jupyter-widgets/base",
            "_view_module_version": "1.2.0",
            "_view_name": "LayoutView",
            "align_content": null,
            "align_items": null,
            "align_self": null,
            "border": null,
            "bottom": null,
            "display": null,
            "flex": null,
            "flex_flow": null,
            "grid_area": null,
            "grid_auto_columns": null,
            "grid_auto_flow": null,
            "grid_auto_rows": null,
            "grid_column": null,
            "grid_gap": null,
            "grid_row": null,
            "grid_template_areas": null,
            "grid_template_columns": null,
            "grid_template_rows": null,
            "height": null,
            "justify_content": null,
            "justify_items": null,
            "left": null,
            "margin": null,
            "max_height": null,
            "max_width": null,
            "min_height": null,
            "min_width": null,
            "object_fit": null,
            "object_position": null,
            "order": null,
            "overflow": null,
            "overflow_x": null,
            "overflow_y": null,
            "padding": null,
            "right": null,
            "top": null,
            "visibility": null,
            "width": null
          }
        },
        "8b86e1669df64941983ac9ea9958c05b": {
          "model_module": "@jupyter-widgets/controls",
          "model_name": "DescriptionStyleModel",
          "model_module_version": "1.5.0",
          "state": {
            "_model_module": "@jupyter-widgets/controls",
            "_model_module_version": "1.5.0",
            "_model_name": "DescriptionStyleModel",
            "_view_count": null,
            "_view_module": "@jupyter-widgets/base",
            "_view_module_version": "1.2.0",
            "_view_name": "StyleView",
            "description_width": ""
          }
        },
        "57180c6f938142ca8d70f2ca9e97fa26": {
          "model_module": "@jupyter-widgets/base",
          "model_name": "LayoutModel",
          "model_module_version": "1.2.0",
          "state": {
            "_model_module": "@jupyter-widgets/base",
            "_model_module_version": "1.2.0",
            "_model_name": "LayoutModel",
            "_view_count": null,
            "_view_module": "@jupyter-widgets/base",
            "_view_module_version": "1.2.0",
            "_view_name": "LayoutView",
            "align_content": null,
            "align_items": null,
            "align_self": null,
            "border": null,
            "bottom": null,
            "display": null,
            "flex": null,
            "flex_flow": null,
            "grid_area": null,
            "grid_auto_columns": null,
            "grid_auto_flow": null,
            "grid_auto_rows": null,
            "grid_column": null,
            "grid_gap": null,
            "grid_row": null,
            "grid_template_areas": null,
            "grid_template_columns": null,
            "grid_template_rows": null,
            "height": null,
            "justify_content": null,
            "justify_items": null,
            "left": null,
            "margin": null,
            "max_height": null,
            "max_width": null,
            "min_height": null,
            "min_width": null,
            "object_fit": null,
            "object_position": null,
            "order": null,
            "overflow": null,
            "overflow_x": null,
            "overflow_y": null,
            "padding": null,
            "right": null,
            "top": null,
            "visibility": null,
            "width": null
          }
        },
        "797ef00a684f42ee99502426c01c2a5d": {
          "model_module": "@jupyter-widgets/controls",
          "model_name": "ProgressStyleModel",
          "model_module_version": "1.5.0",
          "state": {
            "_model_module": "@jupyter-widgets/controls",
            "_model_module_version": "1.5.0",
            "_model_name": "ProgressStyleModel",
            "_view_count": null,
            "_view_module": "@jupyter-widgets/base",
            "_view_module_version": "1.2.0",
            "_view_name": "StyleView",
            "bar_color": null,
            "description_width": ""
          }
        },
        "d4e920eea93f4a8895dd6df5613b7b9f": {
          "model_module": "@jupyter-widgets/base",
          "model_name": "LayoutModel",
          "model_module_version": "1.2.0",
          "state": {
            "_model_module": "@jupyter-widgets/base",
            "_model_module_version": "1.2.0",
            "_model_name": "LayoutModel",
            "_view_count": null,
            "_view_module": "@jupyter-widgets/base",
            "_view_module_version": "1.2.0",
            "_view_name": "LayoutView",
            "align_content": null,
            "align_items": null,
            "align_self": null,
            "border": null,
            "bottom": null,
            "display": null,
            "flex": null,
            "flex_flow": null,
            "grid_area": null,
            "grid_auto_columns": null,
            "grid_auto_flow": null,
            "grid_auto_rows": null,
            "grid_column": null,
            "grid_gap": null,
            "grid_row": null,
            "grid_template_areas": null,
            "grid_template_columns": null,
            "grid_template_rows": null,
            "height": null,
            "justify_content": null,
            "justify_items": null,
            "left": null,
            "margin": null,
            "max_height": null,
            "max_width": null,
            "min_height": null,
            "min_width": null,
            "object_fit": null,
            "object_position": null,
            "order": null,
            "overflow": null,
            "overflow_x": null,
            "overflow_y": null,
            "padding": null,
            "right": null,
            "top": null,
            "visibility": null,
            "width": null
          }
        },
        "69e2e87d73f745d394e06f299b3175f6": {
          "model_module": "@jupyter-widgets/controls",
          "model_name": "DescriptionStyleModel",
          "model_module_version": "1.5.0",
          "state": {
            "_model_module": "@jupyter-widgets/controls",
            "_model_module_version": "1.5.0",
            "_model_name": "DescriptionStyleModel",
            "_view_count": null,
            "_view_module": "@jupyter-widgets/base",
            "_view_module_version": "1.2.0",
            "_view_name": "StyleView",
            "description_width": ""
          }
        },
        "8db1d6f866d142359f452a899b5cc904": {
          "model_module": "@jupyter-widgets/controls",
          "model_name": "HBoxModel",
          "model_module_version": "1.5.0",
          "state": {
            "_dom_classes": [],
            "_model_module": "@jupyter-widgets/controls",
            "_model_module_version": "1.5.0",
            "_model_name": "HBoxModel",
            "_view_count": null,
            "_view_module": "@jupyter-widgets/controls",
            "_view_module_version": "1.5.0",
            "_view_name": "HBoxView",
            "box_style": "",
            "children": [
              "IPY_MODEL_e47418dc5e7543a4bd28e7e893ddb933",
              "IPY_MODEL_8052f885026f4b3fb839a75ff9cd9f51",
              "IPY_MODEL_6f23746328db4debb25bfd720774d450"
            ],
            "layout": "IPY_MODEL_baee4a949fc244f4897daed452dd1909"
          }
        },
        "e47418dc5e7543a4bd28e7e893ddb933": {
          "model_module": "@jupyter-widgets/controls",
          "model_name": "HTMLModel",
          "model_module_version": "1.5.0",
          "state": {
            "_dom_classes": [],
            "_model_module": "@jupyter-widgets/controls",
            "_model_module_version": "1.5.0",
            "_model_name": "HTMLModel",
            "_view_count": null,
            "_view_module": "@jupyter-widgets/controls",
            "_view_module_version": "1.5.0",
            "_view_name": "HTMLView",
            "description": "",
            "description_tooltip": null,
            "layout": "IPY_MODEL_caf18dbbd9324dfc9ce850df78e1e8b3",
            "placeholder": "​",
            "style": "IPY_MODEL_023015aa139b48079144142f10679125",
            "value": "vocab.txt: 100%"
          }
        },
        "8052f885026f4b3fb839a75ff9cd9f51": {
          "model_module": "@jupyter-widgets/controls",
          "model_name": "FloatProgressModel",
          "model_module_version": "1.5.0",
          "state": {
            "_dom_classes": [],
            "_model_module": "@jupyter-widgets/controls",
            "_model_module_version": "1.5.0",
            "_model_name": "FloatProgressModel",
            "_view_count": null,
            "_view_module": "@jupyter-widgets/controls",
            "_view_module_version": "1.5.0",
            "_view_name": "ProgressView",
            "bar_style": "success",
            "description": "",
            "description_tooltip": null,
            "layout": "IPY_MODEL_8e9bc469a05c491e8146da26e71486c7",
            "max": 231508,
            "min": 0,
            "orientation": "horizontal",
            "style": "IPY_MODEL_61a3267aafbe4e58b5de97e0dff89118",
            "value": 231508
          }
        },
        "6f23746328db4debb25bfd720774d450": {
          "model_module": "@jupyter-widgets/controls",
          "model_name": "HTMLModel",
          "model_module_version": "1.5.0",
          "state": {
            "_dom_classes": [],
            "_model_module": "@jupyter-widgets/controls",
            "_model_module_version": "1.5.0",
            "_model_name": "HTMLModel",
            "_view_count": null,
            "_view_module": "@jupyter-widgets/controls",
            "_view_module_version": "1.5.0",
            "_view_name": "HTMLView",
            "description": "",
            "description_tooltip": null,
            "layout": "IPY_MODEL_5aa2a13dc8cb4a6b90d5a573af9f2076",
            "placeholder": "​",
            "style": "IPY_MODEL_898ed01f160f40c8ab8ac4e187395f76",
            "value": " 232k/232k [00:00&lt;00:00, 675kB/s]"
          }
        },
        "baee4a949fc244f4897daed452dd1909": {
          "model_module": "@jupyter-widgets/base",
          "model_name": "LayoutModel",
          "model_module_version": "1.2.0",
          "state": {
            "_model_module": "@jupyter-widgets/base",
            "_model_module_version": "1.2.0",
            "_model_name": "LayoutModel",
            "_view_count": null,
            "_view_module": "@jupyter-widgets/base",
            "_view_module_version": "1.2.0",
            "_view_name": "LayoutView",
            "align_content": null,
            "align_items": null,
            "align_self": null,
            "border": null,
            "bottom": null,
            "display": null,
            "flex": null,
            "flex_flow": null,
            "grid_area": null,
            "grid_auto_columns": null,
            "grid_auto_flow": null,
            "grid_auto_rows": null,
            "grid_column": null,
            "grid_gap": null,
            "grid_row": null,
            "grid_template_areas": null,
            "grid_template_columns": null,
            "grid_template_rows": null,
            "height": null,
            "justify_content": null,
            "justify_items": null,
            "left": null,
            "margin": null,
            "max_height": null,
            "max_width": null,
            "min_height": null,
            "min_width": null,
            "object_fit": null,
            "object_position": null,
            "order": null,
            "overflow": null,
            "overflow_x": null,
            "overflow_y": null,
            "padding": null,
            "right": null,
            "top": null,
            "visibility": null,
            "width": null
          }
        },
        "caf18dbbd9324dfc9ce850df78e1e8b3": {
          "model_module": "@jupyter-widgets/base",
          "model_name": "LayoutModel",
          "model_module_version": "1.2.0",
          "state": {
            "_model_module": "@jupyter-widgets/base",
            "_model_module_version": "1.2.0",
            "_model_name": "LayoutModel",
            "_view_count": null,
            "_view_module": "@jupyter-widgets/base",
            "_view_module_version": "1.2.0",
            "_view_name": "LayoutView",
            "align_content": null,
            "align_items": null,
            "align_self": null,
            "border": null,
            "bottom": null,
            "display": null,
            "flex": null,
            "flex_flow": null,
            "grid_area": null,
            "grid_auto_columns": null,
            "grid_auto_flow": null,
            "grid_auto_rows": null,
            "grid_column": null,
            "grid_gap": null,
            "grid_row": null,
            "grid_template_areas": null,
            "grid_template_columns": null,
            "grid_template_rows": null,
            "height": null,
            "justify_content": null,
            "justify_items": null,
            "left": null,
            "margin": null,
            "max_height": null,
            "max_width": null,
            "min_height": null,
            "min_width": null,
            "object_fit": null,
            "object_position": null,
            "order": null,
            "overflow": null,
            "overflow_x": null,
            "overflow_y": null,
            "padding": null,
            "right": null,
            "top": null,
            "visibility": null,
            "width": null
          }
        },
        "023015aa139b48079144142f10679125": {
          "model_module": "@jupyter-widgets/controls",
          "model_name": "DescriptionStyleModel",
          "model_module_version": "1.5.0",
          "state": {
            "_model_module": "@jupyter-widgets/controls",
            "_model_module_version": "1.5.0",
            "_model_name": "DescriptionStyleModel",
            "_view_count": null,
            "_view_module": "@jupyter-widgets/base",
            "_view_module_version": "1.2.0",
            "_view_name": "StyleView",
            "description_width": ""
          }
        },
        "8e9bc469a05c491e8146da26e71486c7": {
          "model_module": "@jupyter-widgets/base",
          "model_name": "LayoutModel",
          "model_module_version": "1.2.0",
          "state": {
            "_model_module": "@jupyter-widgets/base",
            "_model_module_version": "1.2.0",
            "_model_name": "LayoutModel",
            "_view_count": null,
            "_view_module": "@jupyter-widgets/base",
            "_view_module_version": "1.2.0",
            "_view_name": "LayoutView",
            "align_content": null,
            "align_items": null,
            "align_self": null,
            "border": null,
            "bottom": null,
            "display": null,
            "flex": null,
            "flex_flow": null,
            "grid_area": null,
            "grid_auto_columns": null,
            "grid_auto_flow": null,
            "grid_auto_rows": null,
            "grid_column": null,
            "grid_gap": null,
            "grid_row": null,
            "grid_template_areas": null,
            "grid_template_columns": null,
            "grid_template_rows": null,
            "height": null,
            "justify_content": null,
            "justify_items": null,
            "left": null,
            "margin": null,
            "max_height": null,
            "max_width": null,
            "min_height": null,
            "min_width": null,
            "object_fit": null,
            "object_position": null,
            "order": null,
            "overflow": null,
            "overflow_x": null,
            "overflow_y": null,
            "padding": null,
            "right": null,
            "top": null,
            "visibility": null,
            "width": null
          }
        },
        "61a3267aafbe4e58b5de97e0dff89118": {
          "model_module": "@jupyter-widgets/controls",
          "model_name": "ProgressStyleModel",
          "model_module_version": "1.5.0",
          "state": {
            "_model_module": "@jupyter-widgets/controls",
            "_model_module_version": "1.5.0",
            "_model_name": "ProgressStyleModel",
            "_view_count": null,
            "_view_module": "@jupyter-widgets/base",
            "_view_module_version": "1.2.0",
            "_view_name": "StyleView",
            "bar_color": null,
            "description_width": ""
          }
        },
        "5aa2a13dc8cb4a6b90d5a573af9f2076": {
          "model_module": "@jupyter-widgets/base",
          "model_name": "LayoutModel",
          "model_module_version": "1.2.0",
          "state": {
            "_model_module": "@jupyter-widgets/base",
            "_model_module_version": "1.2.0",
            "_model_name": "LayoutModel",
            "_view_count": null,
            "_view_module": "@jupyter-widgets/base",
            "_view_module_version": "1.2.0",
            "_view_name": "LayoutView",
            "align_content": null,
            "align_items": null,
            "align_self": null,
            "border": null,
            "bottom": null,
            "display": null,
            "flex": null,
            "flex_flow": null,
            "grid_area": null,
            "grid_auto_columns": null,
            "grid_auto_flow": null,
            "grid_auto_rows": null,
            "grid_column": null,
            "grid_gap": null,
            "grid_row": null,
            "grid_template_areas": null,
            "grid_template_columns": null,
            "grid_template_rows": null,
            "height": null,
            "justify_content": null,
            "justify_items": null,
            "left": null,
            "margin": null,
            "max_height": null,
            "max_width": null,
            "min_height": null,
            "min_width": null,
            "object_fit": null,
            "object_position": null,
            "order": null,
            "overflow": null,
            "overflow_x": null,
            "overflow_y": null,
            "padding": null,
            "right": null,
            "top": null,
            "visibility": null,
            "width": null
          }
        },
        "898ed01f160f40c8ab8ac4e187395f76": {
          "model_module": "@jupyter-widgets/controls",
          "model_name": "DescriptionStyleModel",
          "model_module_version": "1.5.0",
          "state": {
            "_model_module": "@jupyter-widgets/controls",
            "_model_module_version": "1.5.0",
            "_model_name": "DescriptionStyleModel",
            "_view_count": null,
            "_view_module": "@jupyter-widgets/base",
            "_view_module_version": "1.2.0",
            "_view_name": "StyleView",
            "description_width": ""
          }
        },
        "4a0c220dfd8f4f7199728d69b8bffe2d": {
          "model_module": "@jupyter-widgets/controls",
          "model_name": "HBoxModel",
          "model_module_version": "1.5.0",
          "state": {
            "_dom_classes": [],
            "_model_module": "@jupyter-widgets/controls",
            "_model_module_version": "1.5.0",
            "_model_name": "HBoxModel",
            "_view_count": null,
            "_view_module": "@jupyter-widgets/controls",
            "_view_module_version": "1.5.0",
            "_view_name": "HBoxView",
            "box_style": "",
            "children": [
              "IPY_MODEL_dc7e9a8c312647a7b84f9842aa5ad5d5",
              "IPY_MODEL_858d2115d31449fe8ba2f576552f2236",
              "IPY_MODEL_90290b4736334ddeb69311a70218cc19"
            ],
            "layout": "IPY_MODEL_0b1f17a903534dd493b6d322ddde56b9"
          }
        },
        "dc7e9a8c312647a7b84f9842aa5ad5d5": {
          "model_module": "@jupyter-widgets/controls",
          "model_name": "HTMLModel",
          "model_module_version": "1.5.0",
          "state": {
            "_dom_classes": [],
            "_model_module": "@jupyter-widgets/controls",
            "_model_module_version": "1.5.0",
            "_model_name": "HTMLModel",
            "_view_count": null,
            "_view_module": "@jupyter-widgets/controls",
            "_view_module_version": "1.5.0",
            "_view_name": "HTMLView",
            "description": "",
            "description_tooltip": null,
            "layout": "IPY_MODEL_d6d16a17163a49cb8d544281fc2eefeb",
            "placeholder": "​",
            "style": "IPY_MODEL_e1c97b44470445f795acb3fdb6e7a93d",
            "value": "tokenizer.json: 100%"
          }
        },
        "858d2115d31449fe8ba2f576552f2236": {
          "model_module": "@jupyter-widgets/controls",
          "model_name": "FloatProgressModel",
          "model_module_version": "1.5.0",
          "state": {
            "_dom_classes": [],
            "_model_module": "@jupyter-widgets/controls",
            "_model_module_version": "1.5.0",
            "_model_name": "FloatProgressModel",
            "_view_count": null,
            "_view_module": "@jupyter-widgets/controls",
            "_view_module_version": "1.5.0",
            "_view_name": "ProgressView",
            "bar_style": "success",
            "description": "",
            "description_tooltip": null,
            "layout": "IPY_MODEL_7c0d32e96b93497b8b49c58ff8e8350a",
            "max": 466062,
            "min": 0,
            "orientation": "horizontal",
            "style": "IPY_MODEL_9004fc0ae969452ba0d41d0f5cd6c45a",
            "value": 466062
          }
        },
        "90290b4736334ddeb69311a70218cc19": {
          "model_module": "@jupyter-widgets/controls",
          "model_name": "HTMLModel",
          "model_module_version": "1.5.0",
          "state": {
            "_dom_classes": [],
            "_model_module": "@jupyter-widgets/controls",
            "_model_module_version": "1.5.0",
            "_model_name": "HTMLModel",
            "_view_count": null,
            "_view_module": "@jupyter-widgets/controls",
            "_view_module_version": "1.5.0",
            "_view_name": "HTMLView",
            "description": "",
            "description_tooltip": null,
            "layout": "IPY_MODEL_ba635d7e46e74a38aefb3fc63dc7859f",
            "placeholder": "​",
            "style": "IPY_MODEL_e9873e68c9c84448b1d310fcbac41f1e",
            "value": " 466k/466k [00:00&lt;00:00, 886kB/s]"
          }
        },
        "0b1f17a903534dd493b6d322ddde56b9": {
          "model_module": "@jupyter-widgets/base",
          "model_name": "LayoutModel",
          "model_module_version": "1.2.0",
          "state": {
            "_model_module": "@jupyter-widgets/base",
            "_model_module_version": "1.2.0",
            "_model_name": "LayoutModel",
            "_view_count": null,
            "_view_module": "@jupyter-widgets/base",
            "_view_module_version": "1.2.0",
            "_view_name": "LayoutView",
            "align_content": null,
            "align_items": null,
            "align_self": null,
            "border": null,
            "bottom": null,
            "display": null,
            "flex": null,
            "flex_flow": null,
            "grid_area": null,
            "grid_auto_columns": null,
            "grid_auto_flow": null,
            "grid_auto_rows": null,
            "grid_column": null,
            "grid_gap": null,
            "grid_row": null,
            "grid_template_areas": null,
            "grid_template_columns": null,
            "grid_template_rows": null,
            "height": null,
            "justify_content": null,
            "justify_items": null,
            "left": null,
            "margin": null,
            "max_height": null,
            "max_width": null,
            "min_height": null,
            "min_width": null,
            "object_fit": null,
            "object_position": null,
            "order": null,
            "overflow": null,
            "overflow_x": null,
            "overflow_y": null,
            "padding": null,
            "right": null,
            "top": null,
            "visibility": null,
            "width": null
          }
        },
        "d6d16a17163a49cb8d544281fc2eefeb": {
          "model_module": "@jupyter-widgets/base",
          "model_name": "LayoutModel",
          "model_module_version": "1.2.0",
          "state": {
            "_model_module": "@jupyter-widgets/base",
            "_model_module_version": "1.2.0",
            "_model_name": "LayoutModel",
            "_view_count": null,
            "_view_module": "@jupyter-widgets/base",
            "_view_module_version": "1.2.0",
            "_view_name": "LayoutView",
            "align_content": null,
            "align_items": null,
            "align_self": null,
            "border": null,
            "bottom": null,
            "display": null,
            "flex": null,
            "flex_flow": null,
            "grid_area": null,
            "grid_auto_columns": null,
            "grid_auto_flow": null,
            "grid_auto_rows": null,
            "grid_column": null,
            "grid_gap": null,
            "grid_row": null,
            "grid_template_areas": null,
            "grid_template_columns": null,
            "grid_template_rows": null,
            "height": null,
            "justify_content": null,
            "justify_items": null,
            "left": null,
            "margin": null,
            "max_height": null,
            "max_width": null,
            "min_height": null,
            "min_width": null,
            "object_fit": null,
            "object_position": null,
            "order": null,
            "overflow": null,
            "overflow_x": null,
            "overflow_y": null,
            "padding": null,
            "right": null,
            "top": null,
            "visibility": null,
            "width": null
          }
        },
        "e1c97b44470445f795acb3fdb6e7a93d": {
          "model_module": "@jupyter-widgets/controls",
          "model_name": "DescriptionStyleModel",
          "model_module_version": "1.5.0",
          "state": {
            "_model_module": "@jupyter-widgets/controls",
            "_model_module_version": "1.5.0",
            "_model_name": "DescriptionStyleModel",
            "_view_count": null,
            "_view_module": "@jupyter-widgets/base",
            "_view_module_version": "1.2.0",
            "_view_name": "StyleView",
            "description_width": ""
          }
        },
        "7c0d32e96b93497b8b49c58ff8e8350a": {
          "model_module": "@jupyter-widgets/base",
          "model_name": "LayoutModel",
          "model_module_version": "1.2.0",
          "state": {
            "_model_module": "@jupyter-widgets/base",
            "_model_module_version": "1.2.0",
            "_model_name": "LayoutModel",
            "_view_count": null,
            "_view_module": "@jupyter-widgets/base",
            "_view_module_version": "1.2.0",
            "_view_name": "LayoutView",
            "align_content": null,
            "align_items": null,
            "align_self": null,
            "border": null,
            "bottom": null,
            "display": null,
            "flex": null,
            "flex_flow": null,
            "grid_area": null,
            "grid_auto_columns": null,
            "grid_auto_flow": null,
            "grid_auto_rows": null,
            "grid_column": null,
            "grid_gap": null,
            "grid_row": null,
            "grid_template_areas": null,
            "grid_template_columns": null,
            "grid_template_rows": null,
            "height": null,
            "justify_content": null,
            "justify_items": null,
            "left": null,
            "margin": null,
            "max_height": null,
            "max_width": null,
            "min_height": null,
            "min_width": null,
            "object_fit": null,
            "object_position": null,
            "order": null,
            "overflow": null,
            "overflow_x": null,
            "overflow_y": null,
            "padding": null,
            "right": null,
            "top": null,
            "visibility": null,
            "width": null
          }
        },
        "9004fc0ae969452ba0d41d0f5cd6c45a": {
          "model_module": "@jupyter-widgets/controls",
          "model_name": "ProgressStyleModel",
          "model_module_version": "1.5.0",
          "state": {
            "_model_module": "@jupyter-widgets/controls",
            "_model_module_version": "1.5.0",
            "_model_name": "ProgressStyleModel",
            "_view_count": null,
            "_view_module": "@jupyter-widgets/base",
            "_view_module_version": "1.2.0",
            "_view_name": "StyleView",
            "bar_color": null,
            "description_width": ""
          }
        },
        "ba635d7e46e74a38aefb3fc63dc7859f": {
          "model_module": "@jupyter-widgets/base",
          "model_name": "LayoutModel",
          "model_module_version": "1.2.0",
          "state": {
            "_model_module": "@jupyter-widgets/base",
            "_model_module_version": "1.2.0",
            "_model_name": "LayoutModel",
            "_view_count": null,
            "_view_module": "@jupyter-widgets/base",
            "_view_module_version": "1.2.0",
            "_view_name": "LayoutView",
            "align_content": null,
            "align_items": null,
            "align_self": null,
            "border": null,
            "bottom": null,
            "display": null,
            "flex": null,
            "flex_flow": null,
            "grid_area": null,
            "grid_auto_columns": null,
            "grid_auto_flow": null,
            "grid_auto_rows": null,
            "grid_column": null,
            "grid_gap": null,
            "grid_row": null,
            "grid_template_areas": null,
            "grid_template_columns": null,
            "grid_template_rows": null,
            "height": null,
            "justify_content": null,
            "justify_items": null,
            "left": null,
            "margin": null,
            "max_height": null,
            "max_width": null,
            "min_height": null,
            "min_width": null,
            "object_fit": null,
            "object_position": null,
            "order": null,
            "overflow": null,
            "overflow_x": null,
            "overflow_y": null,
            "padding": null,
            "right": null,
            "top": null,
            "visibility": null,
            "width": null
          }
        },
        "e9873e68c9c84448b1d310fcbac41f1e": {
          "model_module": "@jupyter-widgets/controls",
          "model_name": "DescriptionStyleModel",
          "model_module_version": "1.5.0",
          "state": {
            "_model_module": "@jupyter-widgets/controls",
            "_model_module_version": "1.5.0",
            "_model_name": "DescriptionStyleModel",
            "_view_count": null,
            "_view_module": "@jupyter-widgets/base",
            "_view_module_version": "1.2.0",
            "_view_name": "StyleView",
            "description_width": ""
          }
        },
        "dc07b1beed234027b5668d2da44568d8": {
          "model_module": "@jupyter-widgets/controls",
          "model_name": "HBoxModel",
          "model_module_version": "1.5.0",
          "state": {
            "_dom_classes": [],
            "_model_module": "@jupyter-widgets/controls",
            "_model_module_version": "1.5.0",
            "_model_name": "HBoxModel",
            "_view_count": null,
            "_view_module": "@jupyter-widgets/controls",
            "_view_module_version": "1.5.0",
            "_view_name": "HBoxView",
            "box_style": "",
            "children": [
              "IPY_MODEL_29580aebc7b94beeb1338ec3d2ee3790",
              "IPY_MODEL_dac2d3b0ff614811839710daa054b7bb",
              "IPY_MODEL_922ec626c0eb4ed7ba0e05c34d2002d8"
            ],
            "layout": "IPY_MODEL_f11e20b471234d8881d9b604b8735d53"
          }
        },
        "29580aebc7b94beeb1338ec3d2ee3790": {
          "model_module": "@jupyter-widgets/controls",
          "model_name": "HTMLModel",
          "model_module_version": "1.5.0",
          "state": {
            "_dom_classes": [],
            "_model_module": "@jupyter-widgets/controls",
            "_model_module_version": "1.5.0",
            "_model_name": "HTMLModel",
            "_view_count": null,
            "_view_module": "@jupyter-widgets/controls",
            "_view_module_version": "1.5.0",
            "_view_name": "HTMLView",
            "description": "",
            "description_tooltip": null,
            "layout": "IPY_MODEL_c41b5ccb824c42778ffa6c3df75f68e9",
            "placeholder": "​",
            "style": "IPY_MODEL_4a4a1fe977e0470788c1821ba520e8f1",
            "value": "config.json: 100%"
          }
        },
        "dac2d3b0ff614811839710daa054b7bb": {
          "model_module": "@jupyter-widgets/controls",
          "model_name": "FloatProgressModel",
          "model_module_version": "1.5.0",
          "state": {
            "_dom_classes": [],
            "_model_module": "@jupyter-widgets/controls",
            "_model_module_version": "1.5.0",
            "_model_name": "FloatProgressModel",
            "_view_count": null,
            "_view_module": "@jupyter-widgets/controls",
            "_view_module_version": "1.5.0",
            "_view_name": "ProgressView",
            "bar_style": "success",
            "description": "",
            "description_tooltip": null,
            "layout": "IPY_MODEL_ad3807e4090b40979881f8ede0e69a9b",
            "max": 570,
            "min": 0,
            "orientation": "horizontal",
            "style": "IPY_MODEL_27d201650b9e4bb3a4a30de88aaa7ce3",
            "value": 570
          }
        },
        "922ec626c0eb4ed7ba0e05c34d2002d8": {
          "model_module": "@jupyter-widgets/controls",
          "model_name": "HTMLModel",
          "model_module_version": "1.5.0",
          "state": {
            "_dom_classes": [],
            "_model_module": "@jupyter-widgets/controls",
            "_model_module_version": "1.5.0",
            "_model_name": "HTMLModel",
            "_view_count": null,
            "_view_module": "@jupyter-widgets/controls",
            "_view_module_version": "1.5.0",
            "_view_name": "HTMLView",
            "description": "",
            "description_tooltip": null,
            "layout": "IPY_MODEL_e4b75caf01034c20bc8fd9b543133603",
            "placeholder": "​",
            "style": "IPY_MODEL_dad951a172774610b740a3bc8862ff74",
            "value": " 570/570 [00:00&lt;00:00, 34.3kB/s]"
          }
        },
        "f11e20b471234d8881d9b604b8735d53": {
          "model_module": "@jupyter-widgets/base",
          "model_name": "LayoutModel",
          "model_module_version": "1.2.0",
          "state": {
            "_model_module": "@jupyter-widgets/base",
            "_model_module_version": "1.2.0",
            "_model_name": "LayoutModel",
            "_view_count": null,
            "_view_module": "@jupyter-widgets/base",
            "_view_module_version": "1.2.0",
            "_view_name": "LayoutView",
            "align_content": null,
            "align_items": null,
            "align_self": null,
            "border": null,
            "bottom": null,
            "display": null,
            "flex": null,
            "flex_flow": null,
            "grid_area": null,
            "grid_auto_columns": null,
            "grid_auto_flow": null,
            "grid_auto_rows": null,
            "grid_column": null,
            "grid_gap": null,
            "grid_row": null,
            "grid_template_areas": null,
            "grid_template_columns": null,
            "grid_template_rows": null,
            "height": null,
            "justify_content": null,
            "justify_items": null,
            "left": null,
            "margin": null,
            "max_height": null,
            "max_width": null,
            "min_height": null,
            "min_width": null,
            "object_fit": null,
            "object_position": null,
            "order": null,
            "overflow": null,
            "overflow_x": null,
            "overflow_y": null,
            "padding": null,
            "right": null,
            "top": null,
            "visibility": null,
            "width": null
          }
        },
        "c41b5ccb824c42778ffa6c3df75f68e9": {
          "model_module": "@jupyter-widgets/base",
          "model_name": "LayoutModel",
          "model_module_version": "1.2.0",
          "state": {
            "_model_module": "@jupyter-widgets/base",
            "_model_module_version": "1.2.0",
            "_model_name": "LayoutModel",
            "_view_count": null,
            "_view_module": "@jupyter-widgets/base",
            "_view_module_version": "1.2.0",
            "_view_name": "LayoutView",
            "align_content": null,
            "align_items": null,
            "align_self": null,
            "border": null,
            "bottom": null,
            "display": null,
            "flex": null,
            "flex_flow": null,
            "grid_area": null,
            "grid_auto_columns": null,
            "grid_auto_flow": null,
            "grid_auto_rows": null,
            "grid_column": null,
            "grid_gap": null,
            "grid_row": null,
            "grid_template_areas": null,
            "grid_template_columns": null,
            "grid_template_rows": null,
            "height": null,
            "justify_content": null,
            "justify_items": null,
            "left": null,
            "margin": null,
            "max_height": null,
            "max_width": null,
            "min_height": null,
            "min_width": null,
            "object_fit": null,
            "object_position": null,
            "order": null,
            "overflow": null,
            "overflow_x": null,
            "overflow_y": null,
            "padding": null,
            "right": null,
            "top": null,
            "visibility": null,
            "width": null
          }
        },
        "4a4a1fe977e0470788c1821ba520e8f1": {
          "model_module": "@jupyter-widgets/controls",
          "model_name": "DescriptionStyleModel",
          "model_module_version": "1.5.0",
          "state": {
            "_model_module": "@jupyter-widgets/controls",
            "_model_module_version": "1.5.0",
            "_model_name": "DescriptionStyleModel",
            "_view_count": null,
            "_view_module": "@jupyter-widgets/base",
            "_view_module_version": "1.2.0",
            "_view_name": "StyleView",
            "description_width": ""
          }
        },
        "ad3807e4090b40979881f8ede0e69a9b": {
          "model_module": "@jupyter-widgets/base",
          "model_name": "LayoutModel",
          "model_module_version": "1.2.0",
          "state": {
            "_model_module": "@jupyter-widgets/base",
            "_model_module_version": "1.2.0",
            "_model_name": "LayoutModel",
            "_view_count": null,
            "_view_module": "@jupyter-widgets/base",
            "_view_module_version": "1.2.0",
            "_view_name": "LayoutView",
            "align_content": null,
            "align_items": null,
            "align_self": null,
            "border": null,
            "bottom": null,
            "display": null,
            "flex": null,
            "flex_flow": null,
            "grid_area": null,
            "grid_auto_columns": null,
            "grid_auto_flow": null,
            "grid_auto_rows": null,
            "grid_column": null,
            "grid_gap": null,
            "grid_row": null,
            "grid_template_areas": null,
            "grid_template_columns": null,
            "grid_template_rows": null,
            "height": null,
            "justify_content": null,
            "justify_items": null,
            "left": null,
            "margin": null,
            "max_height": null,
            "max_width": null,
            "min_height": null,
            "min_width": null,
            "object_fit": null,
            "object_position": null,
            "order": null,
            "overflow": null,
            "overflow_x": null,
            "overflow_y": null,
            "padding": null,
            "right": null,
            "top": null,
            "visibility": null,
            "width": null
          }
        },
        "27d201650b9e4bb3a4a30de88aaa7ce3": {
          "model_module": "@jupyter-widgets/controls",
          "model_name": "ProgressStyleModel",
          "model_module_version": "1.5.0",
          "state": {
            "_model_module": "@jupyter-widgets/controls",
            "_model_module_version": "1.5.0",
            "_model_name": "ProgressStyleModel",
            "_view_count": null,
            "_view_module": "@jupyter-widgets/base",
            "_view_module_version": "1.2.0",
            "_view_name": "StyleView",
            "bar_color": null,
            "description_width": ""
          }
        },
        "e4b75caf01034c20bc8fd9b543133603": {
          "model_module": "@jupyter-widgets/base",
          "model_name": "LayoutModel",
          "model_module_version": "1.2.0",
          "state": {
            "_model_module": "@jupyter-widgets/base",
            "_model_module_version": "1.2.0",
            "_model_name": "LayoutModel",
            "_view_count": null,
            "_view_module": "@jupyter-widgets/base",
            "_view_module_version": "1.2.0",
            "_view_name": "LayoutView",
            "align_content": null,
            "align_items": null,
            "align_self": null,
            "border": null,
            "bottom": null,
            "display": null,
            "flex": null,
            "flex_flow": null,
            "grid_area": null,
            "grid_auto_columns": null,
            "grid_auto_flow": null,
            "grid_auto_rows": null,
            "grid_column": null,
            "grid_gap": null,
            "grid_row": null,
            "grid_template_areas": null,
            "grid_template_columns": null,
            "grid_template_rows": null,
            "height": null,
            "justify_content": null,
            "justify_items": null,
            "left": null,
            "margin": null,
            "max_height": null,
            "max_width": null,
            "min_height": null,
            "min_width": null,
            "object_fit": null,
            "object_position": null,
            "order": null,
            "overflow": null,
            "overflow_x": null,
            "overflow_y": null,
            "padding": null,
            "right": null,
            "top": null,
            "visibility": null,
            "width": null
          }
        },
        "dad951a172774610b740a3bc8862ff74": {
          "model_module": "@jupyter-widgets/controls",
          "model_name": "DescriptionStyleModel",
          "model_module_version": "1.5.0",
          "state": {
            "_model_module": "@jupyter-widgets/controls",
            "_model_module_version": "1.5.0",
            "_model_name": "DescriptionStyleModel",
            "_view_count": null,
            "_view_module": "@jupyter-widgets/base",
            "_view_module_version": "1.2.0",
            "_view_name": "StyleView",
            "description_width": ""
          }
        }
      }
    }
  },
  "nbformat": 4,
  "nbformat_minor": 0
}